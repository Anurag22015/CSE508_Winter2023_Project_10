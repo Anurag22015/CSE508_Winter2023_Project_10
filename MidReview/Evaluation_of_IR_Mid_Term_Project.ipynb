{
  "cells": [
    {
      "cell_type": "code",
      "execution_count": null,
      "metadata": {
        "colab": {
          "base_uri": "https://localhost:8080/"
        },
        "id": "_SVtIYYm_sk5",
        "outputId": "d8720b1a-74ba-418a-f3d0-07533b87336c"
      },
      "outputs": [
        {
          "output_type": "stream",
          "name": "stdout",
          "text": [
            "Looking in indexes: https://pypi.org/simple, https://us-python.pkg.dev/colab-wheels/public/simple/\n",
            "Requirement already satisfied: snscrape in /usr/local/lib/python3.9/dist-packages (0.6.2.20230320)\n",
            "Requirement already satisfied: beautifulsoup4 in /usr/local/lib/python3.9/dist-packages (from snscrape) (4.11.2)\n",
            "Requirement already satisfied: lxml in /usr/local/lib/python3.9/dist-packages (from snscrape) (4.9.2)\n",
            "Requirement already satisfied: requests[socks] in /usr/local/lib/python3.9/dist-packages (from snscrape) (2.27.1)\n",
            "Requirement already satisfied: filelock in /usr/local/lib/python3.9/dist-packages (from snscrape) (3.10.1)\n",
            "Requirement already satisfied: soupsieve>1.2 in /usr/local/lib/python3.9/dist-packages (from beautifulsoup4->snscrape) (2.4)\n",
            "Requirement already satisfied: idna<4,>=2.5 in /usr/local/lib/python3.9/dist-packages (from requests[socks]->snscrape) (3.4)\n",
            "Requirement already satisfied: certifi>=2017.4.17 in /usr/local/lib/python3.9/dist-packages (from requests[socks]->snscrape) (2022.12.7)\n",
            "Requirement already satisfied: charset-normalizer~=2.0.0 in /usr/local/lib/python3.9/dist-packages (from requests[socks]->snscrape) (2.0.12)\n",
            "Requirement already satisfied: urllib3<1.27,>=1.21.1 in /usr/local/lib/python3.9/dist-packages (from requests[socks]->snscrape) (1.26.15)\n",
            "Requirement already satisfied: PySocks!=1.5.7,>=1.5.6 in /usr/local/lib/python3.9/dist-packages (from requests[socks]->snscrape) (1.7.1)\n"
          ]
        }
      ],
      "source": [
        "pip install snscrape"
      ]
    },
    {
      "cell_type": "code",
      "execution_count": null,
      "metadata": {
        "colab": {
          "base_uri": "https://localhost:8080/"
        },
        "id": "0QMWH3c8R_nH",
        "outputId": "e6f1477a-b241-45b2-aa91-8dd9c23bdcdb"
      },
      "outputs": [
        {
          "output_type": "stream",
          "name": "stdout",
          "text": [
            "Looking in indexes: https://pypi.org/simple, https://us-python.pkg.dev/colab-wheels/public/simple/\n",
            "Requirement already satisfied: locationtagger in /usr/local/lib/python3.9/dist-packages (0.0.1)\n",
            "Requirement already satisfied: nltk in /usr/local/lib/python3.9/dist-packages (from locationtagger) (3.8.1)\n",
            "Requirement already satisfied: pycountry in /usr/local/lib/python3.9/dist-packages (from locationtagger) (22.3.5)\n",
            "Requirement already satisfied: newspaper3k in /usr/local/lib/python3.9/dist-packages (from locationtagger) (0.2.8)\n",
            "Requirement already satisfied: spacy in /usr/local/lib/python3.9/dist-packages (from locationtagger) (3.5.1)\n",
            "Requirement already satisfied: cssselect>=0.9.2 in /usr/local/lib/python3.9/dist-packages (from newspaper3k->locationtagger) (1.2.0)\n",
            "Requirement already satisfied: tldextract>=2.0.1 in /usr/local/lib/python3.9/dist-packages (from newspaper3k->locationtagger) (3.4.0)\n",
            "Requirement already satisfied: Pillow>=3.3.0 in /usr/local/lib/python3.9/dist-packages (from newspaper3k->locationtagger) (8.4.0)\n",
            "Requirement already satisfied: feedfinder2>=0.0.4 in /usr/local/lib/python3.9/dist-packages (from newspaper3k->locationtagger) (0.0.4)\n",
            "Requirement already satisfied: requests>=2.10.0 in /usr/local/lib/python3.9/dist-packages (from newspaper3k->locationtagger) (2.27.1)\n",
            "Requirement already satisfied: tinysegmenter==0.3 in /usr/local/lib/python3.9/dist-packages (from newspaper3k->locationtagger) (0.3)\n",
            "Requirement already satisfied: lxml>=3.6.0 in /usr/local/lib/python3.9/dist-packages (from newspaper3k->locationtagger) (4.9.2)\n",
            "Requirement already satisfied: PyYAML>=3.11 in /usr/local/lib/python3.9/dist-packages (from newspaper3k->locationtagger) (6.0)\n",
            "Requirement already satisfied: beautifulsoup4>=4.4.1 in /usr/local/lib/python3.9/dist-packages (from newspaper3k->locationtagger) (4.11.2)\n",
            "Requirement already satisfied: python-dateutil>=2.5.3 in /usr/local/lib/python3.9/dist-packages (from newspaper3k->locationtagger) (2.8.2)\n",
            "Requirement already satisfied: jieba3k>=0.35.1 in /usr/local/lib/python3.9/dist-packages (from newspaper3k->locationtagger) (0.35.1)\n",
            "Requirement already satisfied: feedparser>=5.2.1 in /usr/local/lib/python3.9/dist-packages (from newspaper3k->locationtagger) (6.0.10)\n",
            "Requirement already satisfied: joblib in /usr/local/lib/python3.9/dist-packages (from nltk->locationtagger) (1.1.1)\n",
            "Requirement already satisfied: regex>=2021.8.3 in /usr/local/lib/python3.9/dist-packages (from nltk->locationtagger) (2022.10.31)\n",
            "Requirement already satisfied: tqdm in /usr/local/lib/python3.9/dist-packages (from nltk->locationtagger) (4.65.0)\n",
            "Requirement already satisfied: click in /usr/local/lib/python3.9/dist-packages (from nltk->locationtagger) (8.1.3)\n",
            "Requirement already satisfied: setuptools in /usr/local/lib/python3.9/dist-packages (from pycountry->locationtagger) (67.6.0)\n",
            "Requirement already satisfied: thinc<8.2.0,>=8.1.8 in /usr/local/lib/python3.9/dist-packages (from spacy->locationtagger) (8.1.9)\n",
            "Requirement already satisfied: spacy-loggers<2.0.0,>=1.0.0 in /usr/local/lib/python3.9/dist-packages (from spacy->locationtagger) (1.0.4)\n",
            "Requirement already satisfied: packaging>=20.0 in /usr/local/lib/python3.9/dist-packages (from spacy->locationtagger) (23.0)\n",
            "Requirement already satisfied: spacy-legacy<3.1.0,>=3.0.11 in /usr/local/lib/python3.9/dist-packages (from spacy->locationtagger) (3.0.12)\n",
            "Requirement already satisfied: typer<0.8.0,>=0.3.0 in /usr/local/lib/python3.9/dist-packages (from spacy->locationtagger) (0.7.0)\n",
            "Requirement already satisfied: langcodes<4.0.0,>=3.2.0 in /usr/local/lib/python3.9/dist-packages (from spacy->locationtagger) (3.3.0)\n",
            "Requirement already satisfied: jinja2 in /usr/local/lib/python3.9/dist-packages (from spacy->locationtagger) (3.1.2)\n",
            "Requirement already satisfied: cymem<2.1.0,>=2.0.2 in /usr/local/lib/python3.9/dist-packages (from spacy->locationtagger) (2.0.7)\n",
            "Requirement already satisfied: pathy>=0.10.0 in /usr/local/lib/python3.9/dist-packages (from spacy->locationtagger) (0.10.1)\n",
            "Requirement already satisfied: murmurhash<1.1.0,>=0.28.0 in /usr/local/lib/python3.9/dist-packages (from spacy->locationtagger) (1.0.9)\n",
            "Requirement already satisfied: preshed<3.1.0,>=3.0.2 in /usr/local/lib/python3.9/dist-packages (from spacy->locationtagger) (3.0.8)\n",
            "Requirement already satisfied: numpy>=1.15.0 in /usr/local/lib/python3.9/dist-packages (from spacy->locationtagger) (1.22.4)\n",
            "Requirement already satisfied: pydantic!=1.8,!=1.8.1,<1.11.0,>=1.7.4 in /usr/local/lib/python3.9/dist-packages (from spacy->locationtagger) (1.10.7)\n",
            "Requirement already satisfied: catalogue<2.1.0,>=2.0.6 in /usr/local/lib/python3.9/dist-packages (from spacy->locationtagger) (2.0.8)\n",
            "Requirement already satisfied: wasabi<1.2.0,>=0.9.1 in /usr/local/lib/python3.9/dist-packages (from spacy->locationtagger) (1.1.1)\n",
            "Requirement already satisfied: smart-open<7.0.0,>=5.2.1 in /usr/local/lib/python3.9/dist-packages (from spacy->locationtagger) (6.3.0)\n",
            "Requirement already satisfied: srsly<3.0.0,>=2.4.3 in /usr/local/lib/python3.9/dist-packages (from spacy->locationtagger) (2.4.6)\n",
            "Requirement already satisfied: soupsieve>1.2 in /usr/local/lib/python3.9/dist-packages (from beautifulsoup4>=4.4.1->newspaper3k->locationtagger) (2.4)\n",
            "Requirement already satisfied: six in /usr/local/lib/python3.9/dist-packages (from feedfinder2>=0.0.4->newspaper3k->locationtagger) (1.16.0)\n",
            "Requirement already satisfied: sgmllib3k in /usr/local/lib/python3.9/dist-packages (from feedparser>=5.2.1->newspaper3k->locationtagger) (1.0.0)\n",
            "Requirement already satisfied: typing-extensions>=4.2.0 in /usr/local/lib/python3.9/dist-packages (from pydantic!=1.8,!=1.8.1,<1.11.0,>=1.7.4->spacy->locationtagger) (4.5.0)\n",
            "Requirement already satisfied: charset-normalizer~=2.0.0 in /usr/local/lib/python3.9/dist-packages (from requests>=2.10.0->newspaper3k->locationtagger) (2.0.12)\n",
            "Requirement already satisfied: certifi>=2017.4.17 in /usr/local/lib/python3.9/dist-packages (from requests>=2.10.0->newspaper3k->locationtagger) (2022.12.7)\n",
            "Requirement already satisfied: idna<4,>=2.5 in /usr/local/lib/python3.9/dist-packages (from requests>=2.10.0->newspaper3k->locationtagger) (3.4)\n",
            "Requirement already satisfied: urllib3<1.27,>=1.21.1 in /usr/local/lib/python3.9/dist-packages (from requests>=2.10.0->newspaper3k->locationtagger) (1.26.15)\n",
            "Requirement already satisfied: confection<1.0.0,>=0.0.1 in /usr/local/lib/python3.9/dist-packages (from thinc<8.2.0,>=8.1.8->spacy->locationtagger) (0.0.4)\n",
            "Requirement already satisfied: blis<0.8.0,>=0.7.8 in /usr/local/lib/python3.9/dist-packages (from thinc<8.2.0,>=8.1.8->spacy->locationtagger) (0.7.9)\n",
            "Requirement already satisfied: filelock>=3.0.8 in /usr/local/lib/python3.9/dist-packages (from tldextract>=2.0.1->newspaper3k->locationtagger) (3.10.1)\n",
            "Requirement already satisfied: requests-file>=1.4 in /usr/local/lib/python3.9/dist-packages (from tldextract>=2.0.1->newspaper3k->locationtagger) (1.5.1)\n",
            "Requirement already satisfied: MarkupSafe>=2.0 in /usr/local/lib/python3.9/dist-packages (from jinja2->spacy->locationtagger) (2.1.2)\n"
          ]
        }
      ],
      "source": [
        "pip install locationtagger"
      ]
    },
    {
      "cell_type": "code",
      "execution_count": null,
      "metadata": {
        "colab": {
          "base_uri": "https://localhost:8080/"
        },
        "id": "1Y3d5i9K_vwR",
        "outputId": "b8a86bfb-5079-4a99-8c98-bb0ff748efe2"
      },
      "outputs": [
        {
          "output_type": "stream",
          "name": "stdout",
          "text": [
            "Looking in indexes: https://pypi.org/simple, https://us-python.pkg.dev/colab-wheels/public/simple/\n",
            "Requirement already satisfied: pandas in /usr/local/lib/python3.9/dist-packages (1.4.4)\n",
            "Requirement already satisfied: numpy>=1.18.5 in /usr/local/lib/python3.9/dist-packages (from pandas) (1.22.4)\n",
            "Requirement already satisfied: pytz>=2020.1 in /usr/local/lib/python3.9/dist-packages (from pandas) (2022.7.1)\n",
            "Requirement already satisfied: python-dateutil>=2.8.1 in /usr/local/lib/python3.9/dist-packages (from pandas) (2.8.2)\n",
            "Requirement already satisfied: six>=1.5 in /usr/local/lib/python3.9/dist-packages (from python-dateutil>=2.8.1->pandas) (1.16.0)\n"
          ]
        }
      ],
      "source": [
        "pip install pandas\n"
      ]
    },
    {
      "cell_type": "code",
      "execution_count": null,
      "metadata": {
        "colab": {
          "base_uri": "https://localhost:8080/",
          "height": 394
        },
        "id": "LTTGgb0h_582",
        "outputId": "4d1ab41c-808d-4421-e16e-39fd7997a2da"
      },
      "outputs": [
        {
          "output_type": "execute_result",
          "data": {
            "text/plain": [
              "                         Date           User  \\\n",
              "0   2023-03-15 17:45:53+00:00      LastQuake   \n",
              "1   2023-03-15 16:42:26+00:00  ami_choudhury   \n",
              "2   2023-03-15 16:37:17+00:00    FOURPAWSUSA   \n",
              "3   2023-03-15 16:16:37+00:00     KaftVolter   \n",
              "4   2023-03-15 15:03:32+00:00  ICATinsurance   \n",
              "5   2023-03-15 15:01:17+00:00     baitulmaal   \n",
              "6   2023-03-15 14:50:01+00:00  Micailic0Mica   \n",
              "7   2023-03-15 14:00:02+00:00   hayatyolu_en   \n",
              "8   2023-03-15 13:16:00+00:00    TurkeyPulse   \n",
              "9   2023-03-15 13:10:02+00:00   brightly_one   \n",
              "10  2023-03-15 13:04:53+00:00    OneBrightly   \n",
              "\n",
              "                                                Tweet  \\\n",
              "0   Help us keep doing what we've always done: inf...   \n",
              "1   The Walk 4 Hope\\n\\nPlease donate generously no...   \n",
              "2   #Earthquake Update: FOUR PAWS has entered Syri...   \n",
              "3   #deprem #diyarbakir #sanliurfa #hatay #kahrama...   \n",
              "4   2022 brought about 18 weather disasters that c...   \n",
              "5   #Baitulmaal donors enabled $5.35M in emergency...   \n",
              "6   @Beyefendiyimyav @haydarozkan06 @suleymansoylu...   \n",
              "7   Ramadan is coming🕋🌙\\nWe are still working hard...   \n",
              "8   Will #Turkey's multibillion-dollar #earthquake...   \n",
              "9   Tip from OneBrightlyCyber: #Scammers take adva...   \n",
              "10  Tip from OneBrightly: #Scammers take advantage...   \n",
              "\n",
              "                          Location  \n",
              "0   based in Paris, works globally  \n",
              "1        Bedfordshire, England, UK  \n",
              "2                       Boston, MA  \n",
              "3                         Anıttepe  \n",
              "4                   Broomfield, CO  \n",
              "5                    Irving, Texas  \n",
              "6                   United Kingdom  \n",
              "7                 Istanbul, Turkey  \n",
              "8                              NaN  \n",
              "9             Entire United States  \n",
              "10                             NaN  "
            ],
            "text/html": [
              "\n",
              "  <div id=\"df-ff578306-9f92-419f-b505-7e9911413e54\">\n",
              "    <div class=\"colab-df-container\">\n",
              "      <div>\n",
              "<style scoped>\n",
              "    .dataframe tbody tr th:only-of-type {\n",
              "        vertical-align: middle;\n",
              "    }\n",
              "\n",
              "    .dataframe tbody tr th {\n",
              "        vertical-align: top;\n",
              "    }\n",
              "\n",
              "    .dataframe thead th {\n",
              "        text-align: right;\n",
              "    }\n",
              "</style>\n",
              "<table border=\"1\" class=\"dataframe\">\n",
              "  <thead>\n",
              "    <tr style=\"text-align: right;\">\n",
              "      <th></th>\n",
              "      <th>Date</th>\n",
              "      <th>User</th>\n",
              "      <th>Tweet</th>\n",
              "      <th>Location</th>\n",
              "    </tr>\n",
              "  </thead>\n",
              "  <tbody>\n",
              "    <tr>\n",
              "      <th>0</th>\n",
              "      <td>2023-03-15 17:45:53+00:00</td>\n",
              "      <td>LastQuake</td>\n",
              "      <td>Help us keep doing what we've always done: inf...</td>\n",
              "      <td>based in Paris, works globally</td>\n",
              "    </tr>\n",
              "    <tr>\n",
              "      <th>1</th>\n",
              "      <td>2023-03-15 16:42:26+00:00</td>\n",
              "      <td>ami_choudhury</td>\n",
              "      <td>The Walk 4 Hope\\n\\nPlease donate generously no...</td>\n",
              "      <td>Bedfordshire, England, UK</td>\n",
              "    </tr>\n",
              "    <tr>\n",
              "      <th>2</th>\n",
              "      <td>2023-03-15 16:37:17+00:00</td>\n",
              "      <td>FOURPAWSUSA</td>\n",
              "      <td>#Earthquake Update: FOUR PAWS has entered Syri...</td>\n",
              "      <td>Boston, MA</td>\n",
              "    </tr>\n",
              "    <tr>\n",
              "      <th>3</th>\n",
              "      <td>2023-03-15 16:16:37+00:00</td>\n",
              "      <td>KaftVolter</td>\n",
              "      <td>#deprem #diyarbakir #sanliurfa #hatay #kahrama...</td>\n",
              "      <td>Anıttepe</td>\n",
              "    </tr>\n",
              "    <tr>\n",
              "      <th>4</th>\n",
              "      <td>2023-03-15 15:03:32+00:00</td>\n",
              "      <td>ICATinsurance</td>\n",
              "      <td>2022 brought about 18 weather disasters that c...</td>\n",
              "      <td>Broomfield, CO</td>\n",
              "    </tr>\n",
              "    <tr>\n",
              "      <th>5</th>\n",
              "      <td>2023-03-15 15:01:17+00:00</td>\n",
              "      <td>baitulmaal</td>\n",
              "      <td>#Baitulmaal donors enabled $5.35M in emergency...</td>\n",
              "      <td>Irving, Texas</td>\n",
              "    </tr>\n",
              "    <tr>\n",
              "      <th>6</th>\n",
              "      <td>2023-03-15 14:50:01+00:00</td>\n",
              "      <td>Micailic0Mica</td>\n",
              "      <td>@Beyefendiyimyav @haydarozkan06 @suleymansoylu...</td>\n",
              "      <td>United Kingdom</td>\n",
              "    </tr>\n",
              "    <tr>\n",
              "      <th>7</th>\n",
              "      <td>2023-03-15 14:00:02+00:00</td>\n",
              "      <td>hayatyolu_en</td>\n",
              "      <td>Ramadan is coming🕋🌙\\nWe are still working hard...</td>\n",
              "      <td>Istanbul, Turkey</td>\n",
              "    </tr>\n",
              "    <tr>\n",
              "      <th>8</th>\n",
              "      <td>2023-03-15 13:16:00+00:00</td>\n",
              "      <td>TurkeyPulse</td>\n",
              "      <td>Will #Turkey's multibillion-dollar #earthquake...</td>\n",
              "      <td>NaN</td>\n",
              "    </tr>\n",
              "    <tr>\n",
              "      <th>9</th>\n",
              "      <td>2023-03-15 13:10:02+00:00</td>\n",
              "      <td>brightly_one</td>\n",
              "      <td>Tip from OneBrightlyCyber: #Scammers take adva...</td>\n",
              "      <td>Entire United States</td>\n",
              "    </tr>\n",
              "    <tr>\n",
              "      <th>10</th>\n",
              "      <td>2023-03-15 13:04:53+00:00</td>\n",
              "      <td>OneBrightly</td>\n",
              "      <td>Tip from OneBrightly: #Scammers take advantage...</td>\n",
              "      <td>NaN</td>\n",
              "    </tr>\n",
              "  </tbody>\n",
              "</table>\n",
              "</div>\n",
              "      <button class=\"colab-df-convert\" onclick=\"convertToInteractive('df-ff578306-9f92-419f-b505-7e9911413e54')\"\n",
              "              title=\"Convert this dataframe to an interactive table.\"\n",
              "              style=\"display:none;\">\n",
              "        \n",
              "  <svg xmlns=\"http://www.w3.org/2000/svg\" height=\"24px\"viewBox=\"0 0 24 24\"\n",
              "       width=\"24px\">\n",
              "    <path d=\"M0 0h24v24H0V0z\" fill=\"none\"/>\n",
              "    <path d=\"M18.56 5.44l.94 2.06.94-2.06 2.06-.94-2.06-.94-.94-2.06-.94 2.06-2.06.94zm-11 1L8.5 8.5l.94-2.06 2.06-.94-2.06-.94L8.5 2.5l-.94 2.06-2.06.94zm10 10l.94 2.06.94-2.06 2.06-.94-2.06-.94-.94-2.06-.94 2.06-2.06.94z\"/><path d=\"M17.41 7.96l-1.37-1.37c-.4-.4-.92-.59-1.43-.59-.52 0-1.04.2-1.43.59L10.3 9.45l-7.72 7.72c-.78.78-.78 2.05 0 2.83L4 21.41c.39.39.9.59 1.41.59.51 0 1.02-.2 1.41-.59l7.78-7.78 2.81-2.81c.8-.78.8-2.07 0-2.86zM5.41 20L4 18.59l7.72-7.72 1.47 1.35L5.41 20z\"/>\n",
              "  </svg>\n",
              "      </button>\n",
              "      \n",
              "  <style>\n",
              "    .colab-df-container {\n",
              "      display:flex;\n",
              "      flex-wrap:wrap;\n",
              "      gap: 12px;\n",
              "    }\n",
              "\n",
              "    .colab-df-convert {\n",
              "      background-color: #E8F0FE;\n",
              "      border: none;\n",
              "      border-radius: 50%;\n",
              "      cursor: pointer;\n",
              "      display: none;\n",
              "      fill: #1967D2;\n",
              "      height: 32px;\n",
              "      padding: 0 0 0 0;\n",
              "      width: 32px;\n",
              "    }\n",
              "\n",
              "    .colab-df-convert:hover {\n",
              "      background-color: #E2EBFA;\n",
              "      box-shadow: 0px 1px 2px rgba(60, 64, 67, 0.3), 0px 1px 3px 1px rgba(60, 64, 67, 0.15);\n",
              "      fill: #174EA6;\n",
              "    }\n",
              "\n",
              "    [theme=dark] .colab-df-convert {\n",
              "      background-color: #3B4455;\n",
              "      fill: #D2E3FC;\n",
              "    }\n",
              "\n",
              "    [theme=dark] .colab-df-convert:hover {\n",
              "      background-color: #434B5C;\n",
              "      box-shadow: 0px 1px 3px 1px rgba(0, 0, 0, 0.15);\n",
              "      filter: drop-shadow(0px 1px 2px rgba(0, 0, 0, 0.3));\n",
              "      fill: #FFFFFF;\n",
              "    }\n",
              "  </style>\n",
              "\n",
              "      <script>\n",
              "        const buttonEl =\n",
              "          document.querySelector('#df-ff578306-9f92-419f-b505-7e9911413e54 button.colab-df-convert');\n",
              "        buttonEl.style.display =\n",
              "          google.colab.kernel.accessAllowed ? 'block' : 'none';\n",
              "\n",
              "        async function convertToInteractive(key) {\n",
              "          const element = document.querySelector('#df-ff578306-9f92-419f-b505-7e9911413e54');\n",
              "          const dataTable =\n",
              "            await google.colab.kernel.invokeFunction('convertToInteractive',\n",
              "                                                     [key], {});\n",
              "          if (!dataTable) return;\n",
              "\n",
              "          const docLinkHtml = 'Like what you see? Visit the ' +\n",
              "            '<a target=\"_blank\" href=https://colab.research.google.com/notebooks/data_table.ipynb>data table notebook</a>'\n",
              "            + ' to learn more about interactive tables.';\n",
              "          element.innerHTML = '';\n",
              "          dataTable['output_type'] = 'display_data';\n",
              "          await google.colab.output.renderOutput(dataTable, element);\n",
              "          const docLink = document.createElement('div');\n",
              "          docLink.innerHTML = docLinkHtml;\n",
              "          element.appendChild(docLink);\n",
              "        }\n",
              "      </script>\n",
              "    </div>\n",
              "  </div>\n",
              "  "
            ]
          },
          "metadata": {},
          "execution_count": 7
        }
      ],
      "source": [
        "# import snscrape.modules.twitter as sntwitter\n",
        "import pandas as pd\n",
        "\n",
        "# query = \"earthquake (help OR stuck) (#earthquake)\"\n",
        "# tweets =[]\n",
        "# limit = 10\n",
        "# for tweet in sntwitter.TwitterSearchScraper(query).get_items():\n",
        "\n",
        "#    # print(vars(tweet))\n",
        "#     #break\n",
        "#     if len(tweets) == limit:\n",
        "#       break\n",
        "#     else:\n",
        "#       tweets.append([tweet.date,tweet.user.username,tweet.rawContent, tweet.user.location])\n",
        "# df= pd.DataFrame(tweets,columns=['Date','User','Tweet','Location'])\n",
        "\n",
        "df=pd.read_csv('/content/tweet.csv')\n",
        "x=list(df['Location'])\n",
        "y=[\n",
        "  \"Syria\",\n",
        "  \"Turkey\",\n",
        "  \"Syria\",\n",
        "  \"Turkey\",\n",
        "  \"Turkiye\",\n",
        "  \"Turkey\",\n",
        "  \"Syria\",\n",
        "  \"Turkey\",\n",
        "  \"Syria\",\n",
        "  \"Turkey\"\n",
        "]\n",
        "\n",
        "df.drop(df.columns[0], axis=1, inplace=True)\n",
        "# df.to_csv(r'D:\\New folder\\tweets.csv', sep=',', index=False)\n",
        "# dataf=pd.read_csv(r'D:\\New folder\\tweets.csv',encoding='latin-1')\n",
        "df\n"
      ]
    },
    {
      "cell_type": "code",
      "source": [],
      "metadata": {
        "id": "Q77-RQ7hTg38"
      },
      "execution_count": null,
      "outputs": []
    },
    {
      "cell_type": "code",
      "execution_count": null,
      "metadata": {
        "colab": {
          "base_uri": "https://localhost:8080/"
        },
        "id": "hNQ5EcmYEpYx",
        "outputId": "102a5050-0ed8-4592-995b-5dc7b0bc5657"
      },
      "outputs": [
        {
          "output_type": "execute_result",
          "data": {
            "text/plain": [
              "(11, 4)"
            ]
          },
          "metadata": {},
          "execution_count": 11
        }
      ],
      "source": [
        "df.shape"
      ]
    },
    {
      "cell_type": "code",
      "execution_count": null,
      "metadata": {
        "colab": {
          "base_uri": "https://localhost:8080/"
        },
        "id": "jmnxLh_hFhgr",
        "outputId": "1cefd0f0-0d77-4765-8cf6-724c13536b49"
      },
      "outputs": [
        {
          "output_type": "stream",
          "name": "stdout",
          "text": [
            "<class 'pandas.core.frame.DataFrame'>\n",
            "RangeIndex: 11 entries, 0 to 10\n",
            "Data columns (total 4 columns):\n",
            " #   Column    Non-Null Count  Dtype \n",
            "---  ------    --------------  ----- \n",
            " 0   Date      11 non-null     object\n",
            " 1   User      11 non-null     object\n",
            " 2   Tweet     11 non-null     object\n",
            " 3   Location  9 non-null      object\n",
            "dtypes: object(4)\n",
            "memory usage: 480.0+ bytes\n"
          ]
        }
      ],
      "source": [
        "df.info()"
      ]
    },
    {
      "cell_type": "markdown",
      "metadata": {
        "id": "M8D1XupbFqY9"
      },
      "source": [
        "No null values in any of the column so going for visualization"
      ]
    },
    {
      "cell_type": "code",
      "execution_count": null,
      "metadata": {
        "colab": {
          "base_uri": "https://localhost:8080/"
        },
        "id": "t5nsQ5ibFzLo",
        "outputId": "3fa1ceab-426c-4bf6-cb20-60585c7d889a"
      },
      "outputs": [
        {
          "output_type": "stream",
          "name": "stdout",
          "text": [
            "0     242\n",
            "1     249\n",
            "2     244\n",
            "3     207\n",
            "4     231\n",
            "5     268\n",
            "6     291\n",
            "7     258\n",
            "8     100\n",
            "9     261\n",
            "10    254\n",
            "Name: char_counts, dtype: int64\n"
          ]
        }
      ],
      "source": [
        "#counts number of charcters in each tweet\n",
        "def get_charcounts(x):\n",
        "\ts = x.split()\n",
        "\tx = ''.join(s)\n",
        "\treturn len(x)\n",
        "df['char_counts'] = df['Tweet'].apply(lambda x: get_charcounts(x))\n",
        "print(df['char_counts'])"
      ]
    },
    {
      "cell_type": "code",
      "execution_count": null,
      "metadata": {
        "colab": {
          "base_uri": "https://localhost:8080/",
          "height": 488
        },
        "id": "G9TksicuMJwx",
        "outputId": "d7aedd48-9fab-4200-ae24-44ad7d6193cf"
      },
      "outputs": [
        {
          "output_type": "stream",
          "name": "stderr",
          "text": [
            "<ipython-input-14-143cd0dfb27f>:3: UserWarning: \n",
            "\n",
            "`distplot` is a deprecated function and will be removed in seaborn v0.14.0.\n",
            "\n",
            "Please adapt your code to use either `displot` (a figure-level function with\n",
            "similar flexibility) or `histplot` (an axes-level function for histograms).\n",
            "\n",
            "For a guide to updating your code to use the new functions, please see\n",
            "https://gist.github.com/mwaskom/de44147ed2974457ad6372750bbe5751\n",
            "\n",
            "  sns.distplot(df['char_counts'])\n"
          ]
        },
        {
          "output_type": "execute_result",
          "data": {
            "text/plain": [
              "<Axes: xlabel='char_counts', ylabel='Density'>"
            ]
          },
          "metadata": {},
          "execution_count": 14
        },
        {
          "output_type": "display_data",
          "data": {
            "text/plain": [
              "<Figure size 432x288 with 1 Axes>"
            ],
            "image/png": "[encoded data removed]"
          },
          "metadata": {
            "needs_background": "light"
          }
        }
      ],
      "source": [
        "#plot a graph showing the distribution for the number of characters for tweets\n",
        "import seaborn as sns\n",
        "sns.distplot(df['char_counts'])\n"
      ]
    },
    {
      "cell_type": "code",
      "execution_count": null,
      "metadata": {
        "colab": {
          "base_uri": "https://localhost:8080/",
          "height": 402
        },
        "id": "YGWvyQAFNLYx",
        "outputId": "e57340bd-54f7-421e-bb19-ea99648c27d7"
      },
      "outputs": [
        {
          "output_type": "stream",
          "name": "stderr",
          "text": [
            "<ipython-input-15-78add2f2fefd>:1: FutureWarning: \n",
            "\n",
            "`shade` is now deprecated in favor of `fill`; setting `fill=True`.\n",
            "This will become an error in seaborn v0.14.0; please update your code.\n",
            "\n",
            "  sns.kdeplot(df['char_counts'], shade= True)\n"
          ]
        },
        {
          "output_type": "execute_result",
          "data": {
            "text/plain": [
              "<Axes: xlabel='char_counts', ylabel='Density'>"
            ]
          },
          "metadata": {},
          "execution_count": 15
        },
        {
          "output_type": "display_data",
          "data": {
            "text/plain": [
              "<Figure size 432x288 with 1 Axes>"
            ],
            "image/png": "[encoded data removed]"
          },
          "metadata": {
            "needs_background": "light"
          }
        }
      ],
      "source": [
        "sns.kdeplot(df['char_counts'], shade= True)"
      ]
    },
    {
      "cell_type": "code",
      "execution_count": null,
      "metadata": {
        "id": "mmnrKSQBObAl",
        "colab": {
          "base_uri": "https://localhost:8080/"
        },
        "outputId": "b52a0593-efe1-418a-d8c4-c5cd4e7eb3ab"
      },
      "outputs": [
        {
          "output_type": "stream",
          "name": "stdout",
          "text": [
            "0     13\n",
            "1      7\n",
            "2     13\n",
            "3      3\n",
            "4     13\n",
            "5      4\n",
            "6     17\n",
            "7     13\n",
            "8      0\n",
            "9     10\n",
            "10    10\n",
            "Name: stopwords_counts, dtype: int64\n"
          ]
        },
        {
          "output_type": "stream",
          "name": "stderr",
          "text": [
            "[nltk_data] Downloading package stopwords to /root/nltk_data...\n",
            "[nltk_data]   Package stopwords is already up-to-date!\n"
          ]
        }
      ],
      "source": [
        "import nltk\n",
        "nltk.download('stopwords')\n",
        "from nltk.corpus import stopwords\n",
        "stopwords=stopwords.words('english')\n",
        "def _get_stopwords_counts(x):\n",
        "\tl = len([t for t in x.split() if t in stopwords])\n",
        "\treturn l\n",
        "df['stopwords_counts'] = df['Tweet'].apply(lambda x: _get_stopwords_counts(x))\n",
        "print(df['stopwords_counts'])"
      ]
    },
    {
      "cell_type": "code",
      "execution_count": null,
      "metadata": {
        "id": "uq_J5Ve4P-XL",
        "colab": {
          "base_uri": "https://localhost:8080/",
          "height": 402
        },
        "outputId": "bec8d929-119e-47a8-9ba4-25bcd0418996"
      },
      "outputs": [
        {
          "output_type": "stream",
          "name": "stderr",
          "text": [
            "<ipython-input-17-65239790400c>:1: FutureWarning: \n",
            "\n",
            "`shade` is now deprecated in favor of `fill`; setting `fill=True`.\n",
            "This will become an error in seaborn v0.14.0; please update your code.\n",
            "\n",
            "  sns.kdeplot(df['stopwords_counts'],shade=True)\n"
          ]
        },
        {
          "output_type": "execute_result",
          "data": {
            "text/plain": [
              "<Axes: xlabel='stopwords_counts', ylabel='Density'>"
            ]
          },
          "metadata": {},
          "execution_count": 17
        },
        {
          "output_type": "display_data",
          "data": {
            "text/plain": [
              "<Figure size 432x288 with 1 Axes>"
            ],
            "image/png": "[encoded data removed]"
          },
          "metadata": {
            "needs_background": "light"
          }
        }
      ],
      "source": [
        "sns.kdeplot(df['stopwords_counts'],shade=True)"
      ]
    },
    {
      "cell_type": "code",
      "execution_count": null,
      "metadata": {
        "id": "1VSMJBzPQiJv"
      },
      "outputs": [],
      "source": [
        "#Most and Least command words"
      ]
    },
    {
      "cell_type": "code",
      "execution_count": null,
      "metadata": {
        "id": "HbP1c_CpLplz",
        "colab": {
          "base_uri": "https://localhost:8080/"
        },
        "outputId": "e241219f-6c15-47d9-d8eb-deee19274ccf"
      },
      "outputs": [
        {
          "output_type": "stream",
          "name": "stdout",
          "text": [
            "The Walk 4 Hope  Please donate generously now on the link  below to help us help those affected by this terrible situation    https   t co cjsPO3r3ji   hrf  fundraising  donation  syria  turkey  lebanon  earthquake  victim  affected  food  shelter  clothing  help https   t co VIcstKgvUm\n"
          ]
        }
      ],
      "source": [
        "import re\n",
        "str = re.sub(r'[^\\w]',' ',df.Tweet[1] ).replace(\"_\",\" \")\n",
        "print(str)"
      ]
    },
    {
      "cell_type": "code",
      "source": [
        "#getting frequency of each words occured in all the Tweets in decreasing order\n",
        "wordfreq={}\n",
        "def get_word_freq(text):\n",
        "  words = text.split()\n",
        "  wfreq=[words.count(w) for w in words]\n",
        "  for word in words:\n",
        "    if word not in wordfreq:\n",
        "          wordfreq[word] = 0 \n",
        "    wordfreq[word] += 1\n",
        "\n",
        "for i in range(0,10):\n",
        "  get_word_freq(df.iloc[i]['Tweet'])\n",
        "print(wordfreq)\n",
        "wordfreq= sorted(wordfreq.items(), key=lambda x:x[1],reverse=True)\n",
        "print(wordfreq)"
      ],
      "metadata": {
        "id": "NZ0C-i2SVmii",
        "colab": {
          "base_uri": "https://localhost:8080/"
        },
        "outputId": "00f796aa-bfb3-4efd-9f2e-a9b90750f29f"
      },
      "execution_count": null,
      "outputs": [
        {
          "output_type": "stream",
          "name": "stdout",
          "text": [
            "{'Help': 1, 'us': 3, 'keep': 1, 'doing': 1, 'what': 1, \"we've\": 1, 'always': 1, 'done:': 1, 'inform': 1, 'and': 7, 'reassure': 1, 'citizens': 1, 'living': 1, 'in': 7, '#earthquake-prone': 1, 'regions': 1, 'stand': 1, 'side-by-side': 1, 'with': 1, 'affected': 2, 'population': 1, 'case': 1, 'of': 4, 'an': 1, '#earthquake🙏': 1, 'If': 1, 'you': 3, 'can,': 1, 'consider': 1, 'a': 3, 'donation': 1, 'to': 14, 'https://t.co/6Cc7sj0zpP': 1, 'Thank': 1, 'you💟': 1, 'https://t.co/aC6hcoj6EP': 1, 'The': 1, 'Walk': 1, '4': 1, 'Hope': 1, 'Please': 1, 'donate': 2, 'generously': 1, 'now': 1, 'on': 1, 'the': 9, 'link👇🏻below': 1, 'help': 10, 'those': 1, 'by': 3, 'this': 2, 'terrible': 1, 'situation🙏🏻': 1, 'https://t.co/cjsPO3r3ji': 1, '#hrf': 1, '#fundraising': 1, '#donation': 1, '#syria': 1, '#turkey': 1, '#lebanon': 1, '#earthquake': 7, '#victim': 1, '#affected': 1, '#food': 1, '#shelter': 1, '#clothing': 1, '#help': 1, 'https://t.co/VIcstKgvUm': 1, '#Earthquake': 1, 'Update:': 1, 'FOUR': 1, 'PAWS': 1, 'has': 1, 'entered': 1, 'Syria': 1, 'offer': 1, 'support': 2, 'animals': 2, 'impacted': 1, 'natural': 1, 'disaster.': 1, 'Our': 1, 'team,': 1, 'led': 1, 'Dr': 1, 'Amir': 1, 'Khalil,': 1, 'is': 5, 'working': 2, 'under': 1, 'high': 1, 'pressure': 1, 'as': 2, 'many': 1, 'possible': 1, 'short': 1, 'time': 1, 'available.': 1, 'https://t.co/VGWUSrMjNW': 1, 'https://t.co/JY8GCtXrZR': 1, '#deprem': 1, '#diyarbakir': 1, '#sanliurfa': 1, '#hatay': 1, '#kahramanmaras': 1, '#Gaziantep': 1, '#Osmaniye': 1, '#adana': 1, '#ADIYAMAN': 1, '#Malatya': 1, '#HelpTurkey': 1, '#Erdbeben': 1, '#землетрясение': 1, 'Menschen': 1, 'sterben,': 1, 'Hilfe': 1, 'ist': 1, 'nicht': 1, 'genug': 1, 'people': 1, 'are': 3, 'dying': 1, 'not': 3, 'enough': 1, '#btc': 1, '#coin': 1, '2022': 1, 'brought': 1, 'about': 2, '18': 1, 'weather': 1, 'disasters': 2, 'that': 1, 'caused': 1, 'over': 1, '$1': 1, 'billion': 1, 'damages.': 1, 'ICAT': 1, 'here': 1, 'protect': 1, 'your': 3, 'greatest': 1, 'assets.': 1, 'Keep': 1, 'peace': 1, 'mind': 1, 'knowing': 1, 'have': 2, 'right': 2, 'coverage.': 1, '#disasterinsurance': 1, '#hurricane': 1, '#insurance': 1, 'https://t.co/RWBqGXUfbV': 1, '#Baitulmaal': 1, 'donors': 1, 'enabled': 1, '$5.35M': 1, 'emergency': 1, 'medical': 1, 'aid': 2, 'survivors.': 1, 'More': 1, 'needed': 1, '#Ramadan': 1, '-': 1, 'https://t.co/sNs6PGFz6P': 1, '#hope': 1, '#compassion': 1, '#Ramadan2023': 1, '#Ramadanfoodpackage': 1, '#Turkiye': 1, '#Turkey': 2, '#Syria': 2, '#iftar': 1, '#Orphan': 1, '#cleanwater': 1, '#charity': 2, '#refugee': 1, '#fasting': 1, 'https://t.co/uGS6zjjw3V': 1, '@Beyefendiyimyav': 1, '@haydarozkan06': 1, '@suleymansoylu': 1, '@tcbestepe': 1, '@RTErdogan': 1, '@iletisim': 1, 'Because': 1, 'we': 1, 'care': 1, '#animals': 1, 'it’s': 1, 'their': 1, 'fault': 1, 'they': 2, 'homeless': 1, 'don’t': 1, 'understand!': 1, 'Why': 1, 'did': 1, 'rescue': 1, 'search': 1, '#dogs': 2, 'find': 1, 'survivors': 2, '#earthquake?': 1, 'You': 1, 'didn’t': 1, 'deserve': 1, 'them!': 1, 'Stop': 1, 'being': 1, 'selfish': 1, 'ignorant': 1, 'towards': 1, 'life!': 1, 'Ramadan': 1, 'coming🕋🌙': 1, 'We': 1, 'still': 1, 'hard': 1, 'earthquake-hit': 1, 'areas': 1, 'serve': 1, 'them': 1, 'better': 1, 'receive': 1, 'month': 1, 'Ramadan.': 1, 'Your': 1, 'for': 1, 'makes': 1, 'difference.': 1, 'https://t.co/qAT9Gq47Q0': 1, '#victims': 1, '#injured': 1, '#kahramanmaraş': 1, 'https://t.co/surCqgCnLO': 1, 'Will': 1, \"#Turkey's\": 1, 'multibillion-dollar': 1, 'fund': 1, 'reelect': 1, '#Erdogan?': 1, '@mustfsnmz': 1, 'https://t.co/zvEV6vTafn': 1, 'Tip': 1, 'from': 1, 'OneBrightlyCyber:': 1, '#Scammers': 1, 'take': 1, 'advantage': 1, 'like': 1, 'recent': 1, 'earthquake': 1, 'solicit': 1, 'money.': 1, 'But': 1, 'donations': 1, 'go': 1, 'them,': 1, 'real': 1, 'victims.': 1, 'Be': 1, 'sure': 1, 'REAL': 1, 'CHARITIES!': 1, 'https://t.co/WUu9nYsRJF': 1, '#donate': 1, '#disasters': 1, '#giving': 1, 'https://t.co/X3iWED4kqm': 1}\n",
            "[('to', 14), ('help', 10), ('the', 9), ('and', 7), ('in', 7), ('#earthquake', 7), ('is', 5), ('of', 4), ('us', 3), ('you', 3), ('a', 3), ('by', 3), ('are', 3), ('not', 3), ('your', 3), ('affected', 2), ('donate', 2), ('this', 2), ('support', 2), ('animals', 2), ('working', 2), ('as', 2), ('about', 2), ('disasters', 2), ('have', 2), ('right', 2), ('aid', 2), ('#Turkey', 2), ('#Syria', 2), ('#charity', 2), ('they', 2), ('#dogs', 2), ('survivors', 2), ('Help', 1), ('keep', 1), ('doing', 1), ('what', 1), (\"we've\", 1), ('always', 1), ('done:', 1), ('inform', 1), ('reassure', 1), ('citizens', 1), ('living', 1), ('#earthquake-prone', 1), ('regions', 1), ('stand', 1), ('side-by-side', 1), ('with', 1), ('population', 1), ('case', 1), ('an', 1), ('#earthquake🙏', 1), ('If', 1), ('can,', 1), ('consider', 1), ('donation', 1), ('https://t.co/6Cc7sj0zpP', 1), ('Thank', 1), ('you💟', 1), ('https://t.co/aC6hcoj6EP', 1), ('The', 1), ('Walk', 1), ('4', 1), ('Hope', 1), ('Please', 1), ('generously', 1), ('now', 1), ('on', 1), ('link👇🏻below', 1), ('those', 1), ('terrible', 1), ('situation🙏🏻', 1), ('https://t.co/cjsPO3r3ji', 1), ('#hrf', 1), ('#fundraising', 1), ('#donation', 1), ('#syria', 1), ('#turkey', 1), ('#lebanon', 1), ('#victim', 1), ('#affected', 1), ('#food', 1), ('#shelter', 1), ('#clothing', 1), ('#help', 1), ('https://t.co/VIcstKgvUm', 1), ('#Earthquake', 1), ('Update:', 1), ('FOUR', 1), ('PAWS', 1), ('has', 1), ('entered', 1), ('Syria', 1), ('offer', 1), ('impacted', 1), ('natural', 1), ('disaster.', 1), ('Our', 1), ('team,', 1), ('led', 1), ('Dr', 1), ('Amir', 1), ('Khalil,', 1), ('under', 1), ('high', 1), ('pressure', 1), ('many', 1), ('possible', 1), ('short', 1), ('time', 1), ('available.', 1), ('https://t.co/VGWUSrMjNW', 1), ('https://t.co/JY8GCtXrZR', 1), ('#deprem', 1), ('#diyarbakir', 1), ('#sanliurfa', 1), ('#hatay', 1), ('#kahramanmaras', 1), ('#Gaziantep', 1), ('#Osmaniye', 1), ('#adana', 1), ('#ADIYAMAN', 1), ('#Malatya', 1), ('#HelpTurkey', 1), ('#Erdbeben', 1), ('#землетрясение', 1), ('Menschen', 1), ('sterben,', 1), ('Hilfe', 1), ('ist', 1), ('nicht', 1), ('genug', 1), ('people', 1), ('dying', 1), ('enough', 1), ('#btc', 1), ('#coin', 1), ('2022', 1), ('brought', 1), ('18', 1), ('weather', 1), ('that', 1), ('caused', 1), ('over', 1), ('$1', 1), ('billion', 1), ('damages.', 1), ('ICAT', 1), ('here', 1), ('protect', 1), ('greatest', 1), ('assets.', 1), ('Keep', 1), ('peace', 1), ('mind', 1), ('knowing', 1), ('coverage.', 1), ('#disasterinsurance', 1), ('#hurricane', 1), ('#insurance', 1), ('https://t.co/RWBqGXUfbV', 1), ('#Baitulmaal', 1), ('donors', 1), ('enabled', 1), ('$5.35M', 1), ('emergency', 1), ('medical', 1), ('survivors.', 1), ('More', 1), ('needed', 1), ('#Ramadan', 1), ('-', 1), ('https://t.co/sNs6PGFz6P', 1), ('#hope', 1), ('#compassion', 1), ('#Ramadan2023', 1), ('#Ramadanfoodpackage', 1), ('#Turkiye', 1), ('#iftar', 1), ('#Orphan', 1), ('#cleanwater', 1), ('#refugee', 1), ('#fasting', 1), ('https://t.co/uGS6zjjw3V', 1), ('@Beyefendiyimyav', 1), ('@haydarozkan06', 1), ('@suleymansoylu', 1), ('@tcbestepe', 1), ('@RTErdogan', 1), ('@iletisim', 1), ('Because', 1), ('we', 1), ('care', 1), ('#animals', 1), ('it’s', 1), ('their', 1), ('fault', 1), ('homeless', 1), ('don’t', 1), ('understand!', 1), ('Why', 1), ('did', 1), ('rescue', 1), ('search', 1), ('find', 1), ('#earthquake?', 1), ('You', 1), ('didn’t', 1), ('deserve', 1), ('them!', 1), ('Stop', 1), ('being', 1), ('selfish', 1), ('ignorant', 1), ('towards', 1), ('life!', 1), ('Ramadan', 1), ('coming🕋🌙', 1), ('We', 1), ('still', 1), ('hard', 1), ('earthquake-hit', 1), ('areas', 1), ('serve', 1), ('them', 1), ('better', 1), ('receive', 1), ('month', 1), ('Ramadan.', 1), ('Your', 1), ('for', 1), ('makes', 1), ('difference.', 1), ('https://t.co/qAT9Gq47Q0', 1), ('#victims', 1), ('#injured', 1), ('#kahramanmaraş', 1), ('https://t.co/surCqgCnLO', 1), ('Will', 1), (\"#Turkey's\", 1), ('multibillion-dollar', 1), ('fund', 1), ('reelect', 1), ('#Erdogan?', 1), ('@mustfsnmz', 1), ('https://t.co/zvEV6vTafn', 1), ('Tip', 1), ('from', 1), ('OneBrightlyCyber:', 1), ('#Scammers', 1), ('take', 1), ('advantage', 1), ('like', 1), ('recent', 1), ('earthquake', 1), ('solicit', 1), ('money.', 1), ('But', 1), ('donations', 1), ('go', 1), ('them,', 1), ('real', 1), ('victims.', 1), ('Be', 1), ('sure', 1), ('REAL', 1), ('CHARITIES!', 1), ('https://t.co/WUu9nYsRJF', 1), ('#donate', 1), ('#disasters', 1), ('#giving', 1), ('https://t.co/X3iWED4kqm', 1)]\n"
          ]
        }
      ]
    },
    {
      "cell_type": "code",
      "source": [
        "print(type(wordfreq))"
      ],
      "metadata": {
        "id": "kOafFzOhh90j",
        "colab": {
          "base_uri": "https://localhost:8080/"
        },
        "outputId": "9ce6b16b-256a-441d-f4b8-b27bb55b0520"
      },
      "execution_count": null,
      "outputs": [
        {
          "output_type": "stream",
          "name": "stdout",
          "text": [
            "<class 'list'>\n"
          ]
        }
      ]
    },
    {
      "cell_type": "code",
      "source": [
        "from matplotlib import pyplot as plt\n",
        "import numpy as np"
      ],
      "metadata": {
        "id": "g5FlQdKlkA8Y"
      },
      "execution_count": null,
      "outputs": []
    },
    {
      "cell_type": "code",
      "source": [
        "#bar plot for 20 most common words\n",
        "words=[]\n",
        "wordfreqs=[]\n",
        "for i in range(0,20):\n",
        "  words.append(wordfreq[i][0])\n",
        "  wordfreqs.append(wordfreq[i][1])\n",
        "plt.figure(figsize=(12,12))\n",
        "plt.bar(words, wordfreqs)\n",
        "plt.xticks(rotation=50)\n",
        "plt.show()"
      ],
      "metadata": {
        "id": "Enq43OoqkBat",
        "colab": {
          "base_uri": "https://localhost:8080/",
          "height": 747
        },
        "outputId": "ee04a2c5-2e46-4142-9218-247da61ce147"
      },
      "execution_count": null,
      "outputs": [
        {
          "output_type": "display_data",
          "data": {
            "text/plain": [
              "<Figure size 864x864 with 1 Axes>"
            ],
            "image/png": "[encoded data removed]"
          },
          "metadata": {
            "needs_background": "light"
          }
        }
      ]
    },
    {
      "cell_type": "code",
      "source": [
        "#bar plot for 20 most common words\n",
        "words=[]\n",
        "wordfreqs=[]\n",
        "for i in range(len(wordfreq)-1,len(wordfreq)-21,-1):\n",
        "  words.append(wordfreq[i][0])\n",
        "  wordfreqs.append(wordfreq[i][1])\n",
        "plt.figure(figsize=(8,8))\n",
        "plt.bar(words, wordfreqs)\n",
        "plt.xticks(rotation=100)\n",
        "plt.show()"
      ],
      "metadata": {
        "id": "DbIjMnVKkBd9",
        "colab": {
          "base_uri": "https://localhost:8080/",
          "height": 598
        },
        "outputId": "c0d5df67-fe30-479a-e42c-b1aa22ed9029"
      },
      "execution_count": null,
      "outputs": [
        {
          "output_type": "display_data",
          "data": {
            "text/plain": [
              "<Figure size 576x576 with 1 Axes>"
            ],
            "image/png": "[encoded data removed]"
          },
          "metadata": {
            "needs_background": "light"
          }
        }
      ]
    },
    {
      "cell_type": "code",
      "source": [
        "from sklearn.feature_extraction.text import CountVectorizer\n",
        "def get_ngram(df, col, ngram_range):\n",
        "\tvectorizer = CountVectorizer(ngram_range=(ngram_range, ngram_range))\n",
        "\tvectorizer.fit_transform(df[col])\n",
        "\tngram = vectorizer.vocabulary_\n",
        "\tngram = sorted(ngram.items(), key = lambda x: x[1], reverse=True)\n",
        "\n",
        "\treturn ngram\n",
        "bigram = get_ngram(df,'Tweet', ngram_range=2)"
      ],
      "metadata": {
        "id": "xwapZzb7kBj8"
      },
      "execution_count": null,
      "outputs": []
    },
    {
      "cell_type": "code",
      "source": [
        "bigram[:20]"
      ],
      "metadata": {
        "id": "Gsu-3JZgkJ6Y",
        "colab": {
          "base_uri": "https://localhost:8080/"
        },
        "outputId": "efcb8cc7-688d-48cc-a913-83a9512f2b4b"
      },
      "execution_count": null,
      "outputs": [
        {
          "output_type": "execute_result",
          "data": {
            "text/plain": [
              "[('землетрясение menschen', 363),\n",
              " ('your support', 362),\n",
              " ('your peace', 361),\n",
              " ('your greatest', 360),\n",
              " ('your donations', 359),\n",
              " ('you https', 358),\n",
              " ('you have', 357),\n",
              " ('you donate', 356),\n",
              " ('you didn', 355),\n",
              " ('you can', 354),\n",
              " ('xquhjj0mg1 https', 353),\n",
              " ('wuu9nysrjf donate', 352),\n",
              " ('working under', 351),\n",
              " ('working hard', 350),\n",
              " ('with affected', 349),\n",
              " ('will turkey', 348),\n",
              " ('why did', 347),\n",
              " ('what we', 346),\n",
              " ('weather disasters', 345),\n",
              " ('we ve', 344)]"
            ]
          },
          "metadata": {},
          "execution_count": 26
        }
      ]
    },
    {
      "cell_type": "code",
      "source": [
        "#storing all the tweet as a single string\n",
        "words=\"\"\n",
        "for i in range(0,len(wordfreq)):\n",
        "  words+=wordfreq[i][0]\n",
        "words"
      ],
      "metadata": {
        "id": "H9RfyJ0VQp3J",
        "colab": {
          "base_uri": "https://localhost:8080/",
          "height": 105
        },
        "outputId": "d9421dba-e671-4b03-a029-28f78225bfb9"
      },
      "execution_count": null,
      "outputs": [
        {
          "output_type": "execute_result",
          "data": {
            "text/plain": [
              "\"tohelptheandin#earthquakeisofusyouabyarenotyouraffecteddonatethissupportanimalsworkingasaboutdisastershaverightaid#Turkey#Syria#charitythey#dogssurvivorsHelpkeepdoingwhatwe'vealwaysdone:informreassurecitizensliving#earthquake-proneregionsstandside-by-sidewithpopulationcasean#earthquake🙏Ifcan,considerdonationhttps://t.co/6Cc7sj0zpPThankyou💟https://t.co/aC6hcoj6EPTheWalk4HopePleasegenerouslynowonlink👇🏻belowthoseterriblesituation🙏🏻https://t.co/cjsPO3r3ji#hrf#fundraising#donation#syria#turkey#lebanon#victim#affected#food#shelter#clothing#helphttps://t.co/VIcstKgvUm#EarthquakeUpdate:FOURPAWShasenteredSyriaofferimpactednaturaldisaster.Ourteam,ledDrAmirKhalil,underhighpressuremanypossibleshorttimeavailable.https://t.co/VGWUSrMjNWhttps://t.co/JY8GCtXrZR#deprem#diyarbakir#sanliurfa#hatay#kahramanmaras#Gaziantep#Osmaniye#adana#ADIYAMAN#Malatya#HelpTurkey#Erdbeben#землетрясениеMenschensterben,Hilfeistnichtgenugpeopledyingenough#btc#coin2022brought18weatherthatcausedover$1billiondamages.ICAThereprotectgreatestassets.Keeppeacemindknowingcoverage.#disasterinsurance#hurricane#insurancehttps://t.co/RWBqGXUfbV#Baitulmaaldonorsenabled$5.35Memergencymedicalsurvivors.Moreneeded#Ramadan-https://t.co/sNs6PGFz6P#hope#compassion#Ramadan2023#Ramadanfoodpackage#Turkiye#iftar#Orphan#cleanwater#refugee#fastinghttps://t.co/uGS6zjjw3V@Beyefendiyimyav@haydarozkan06@suleymansoylu@tcbestepe@RTErdogan@iletisimBecausewecare#animalsit’stheirfaulthomelessdon’tunderstand!Whydidrescuesearchfind#earthquake?Youdidn’tdeservethem!Stopbeingselfishignoranttowardslife!Ramadancoming🕋🌙Westillhardearthquake-hitareasservethembetterreceivemonthRamadan.Yourformakesdifference.https://t.co/qAT9Gq47Q0#victims#injured#kahramanmaraşhttps://t.co/surCqgCnLOWill#Turkey'smultibillion-dollarfundreelect#Erdogan?@mustfsnmzhttps://t.co/zvEV6vTafnTipfromOneBrightlyCyber:#Scammerstakeadvantagelikerecentearthquakesolicitmoney.Butdonationsgothem,realvictims.BesureREALCHARITIES!https://t.co/WUu9nYsRJF#donate#disasters#givinghttps://t.co/X3iWED4kqm\""
            ],
            "application/vnd.google.colaboratory.intrinsic+json": {
              "type": "string"
            }
          },
          "metadata": {},
          "execution_count": 27
        }
      ]
    },
    {
      "cell_type": "code",
      "source": [
        "#printing wordcloud for the tweets\n",
        "from wordcloud import WordCloud \n",
        "word_cloud = WordCloud(max_font_size=80).generate(words)\n",
        "plt.imshow(word_cloud)\n",
        "plt.axis('off')\n",
        "plt.show()"
      ],
      "metadata": {
        "id": "2UWhYZqIQ78F",
        "colab": {
          "base_uri": "https://localhost:8080/",
          "height": 198
        },
        "outputId": "c368b7cf-a8cc-4e6b-a7f2-ca3984e0f90f"
      },
      "execution_count": null,
      "outputs": [
        {
          "output_type": "display_data",
          "data": {
            "text/plain": [
              "<Figure size 432x288 with 1 Axes>"
            ],
            "image/png": "[encoded data removed]"
          },
          "metadata": {
            "needs_background": "light"
          }
        }
      ]
    },
    {
      "cell_type": "code",
      "execution_count": null,
      "metadata": {
        "id": "xFgZVBO1Q7ut",
        "colab": {
          "base_uri": "https://localhost:8080/"
        },
        "outputId": "8f4da7d0-6b01-4927-fb97-f116bfdc8511"
      },
      "outputs": [
        {
          "output_type": "stream",
          "name": "stderr",
          "text": [
            "/usr/local/lib/python3.9/dist-packages/torch/cuda/__init__.py:497: UserWarning: Can't initialize NVML\n",
            "  warnings.warn(\"Can't initialize NVML\")\n",
            "[nltk_data] Downloading package maxent_ne_chunker to\n",
            "[nltk_data]     /root/nltk_data...\n",
            "[nltk_data]   Package maxent_ne_chunker is already up-to-date!\n",
            "[nltk_data] Downloading package words to /root/nltk_data...\n",
            "[nltk_data]   Package words is already up-to-date!\n",
            "[nltk_data] Downloading package treebank to /root/nltk_data...\n",
            "[nltk_data]   Package treebank is already up-to-date!\n",
            "[nltk_data] Downloading package maxent_treebank_pos_tagger to\n",
            "[nltk_data]     /root/nltk_data...\n",
            "[nltk_data]   Package maxent_treebank_pos_tagger is already up-to-\n",
            "[nltk_data]       date!\n",
            "[nltk_data] Downloading package punkt to /root/nltk_data...\n",
            "[nltk_data]   Package punkt is already up-to-date!\n",
            "[nltk_data] Downloading package averaged_perceptron_tagger to\n",
            "[nltk_data]     /root/nltk_data...\n",
            "[nltk_data]   Package averaged_perceptron_tagger is already up-to-\n",
            "[nltk_data]       date!\n"
          ]
        },
        {
          "output_type": "execute_result",
          "data": {
            "text/plain": [
              "True"
            ]
          },
          "metadata": {},
          "execution_count": 29
        }
      ],
      "source": [
        "import nltk\n",
        "import spacy\n",
        " \n",
        "# essential entity models downloads\n",
        "nltk.downloader.download('maxent_ne_chunker')\n",
        "nltk.downloader.download('words')\n",
        "nltk.downloader.download('treebank')\n",
        "nltk.downloader.download('maxent_treebank_pos_tagger')\n",
        "nltk.downloader.download('punkt')\n",
        "nltk.download('averaged_perceptron_tagger')\n"
      ]
    },
    {
      "cell_type": "code",
      "source": [
        "df.head()"
      ],
      "metadata": {
        "id": "2_T0K7uqdh-7",
        "colab": {
          "base_uri": "https://localhost:8080/",
          "height": 206
        },
        "outputId": "51a7c464-8480-46c7-de94-bb80a983142f"
      },
      "execution_count": null,
      "outputs": [
        {
          "output_type": "execute_result",
          "data": {
            "text/plain": [
              "                        Date           User  \\\n",
              "0  2023-03-15 17:45:53+00:00      LastQuake   \n",
              "1  2023-03-15 16:42:26+00:00  ami_choudhury   \n",
              "2  2023-03-15 16:37:17+00:00    FOURPAWSUSA   \n",
              "3  2023-03-15 16:16:37+00:00     KaftVolter   \n",
              "4  2023-03-15 15:03:32+00:00  ICATinsurance   \n",
              "\n",
              "                                               Tweet  \\\n",
              "0  Help us keep doing what we've always done: inf...   \n",
              "1  The Walk 4 Hope\\n\\nPlease donate generously no...   \n",
              "2  #Earthquake Update: FOUR PAWS has entered Syri...   \n",
              "3  #deprem #diyarbakir #sanliurfa #hatay #kahrama...   \n",
              "4  2022 brought about 18 weather disasters that c...   \n",
              "\n",
              "                         Location  char_counts  stopwords_counts  \n",
              "0  based in Paris, works globally          242                13  \n",
              "1       Bedfordshire, England, UK          249                 7  \n",
              "2                      Boston, MA          244                13  \n",
              "3                        Anıttepe          207                 3  \n",
              "4                  Broomfield, CO          231                13  "
            ],
            "text/html": [
              "\n",
              "  <div id=\"df-bbac2ede-cd06-4541-8b64-693120e45425\">\n",
              "    <div class=\"colab-df-container\">\n",
              "      <div>\n",
              "<style scoped>\n",
              "    .dataframe tbody tr th:only-of-type {\n",
              "        vertical-align: middle;\n",
              "    }\n",
              "\n",
              "    .dataframe tbody tr th {\n",
              "        vertical-align: top;\n",
              "    }\n",
              "\n",
              "    .dataframe thead th {\n",
              "        text-align: right;\n",
              "    }\n",
              "</style>\n",
              "<table border=\"1\" class=\"dataframe\">\n",
              "  <thead>\n",
              "    <tr style=\"text-align: right;\">\n",
              "      <th></th>\n",
              "      <th>Date</th>\n",
              "      <th>User</th>\n",
              "      <th>Tweet</th>\n",
              "      <th>Location</th>\n",
              "      <th>char_counts</th>\n",
              "      <th>stopwords_counts</th>\n",
              "    </tr>\n",
              "  </thead>\n",
              "  <tbody>\n",
              "    <tr>\n",
              "      <th>0</th>\n",
              "      <td>2023-03-15 17:45:53+00:00</td>\n",
              "      <td>LastQuake</td>\n",
              "      <td>Help us keep doing what we've always done: inf...</td>\n",
              "      <td>based in Paris, works globally</td>\n",
              "      <td>242</td>\n",
              "      <td>13</td>\n",
              "    </tr>\n",
              "    <tr>\n",
              "      <th>1</th>\n",
              "      <td>2023-03-15 16:42:26+00:00</td>\n",
              "      <td>ami_choudhury</td>\n",
              "      <td>The Walk 4 Hope\\n\\nPlease donate generously no...</td>\n",
              "      <td>Bedfordshire, England, UK</td>\n",
              "      <td>249</td>\n",
              "      <td>7</td>\n",
              "    </tr>\n",
              "    <tr>\n",
              "      <th>2</th>\n",
              "      <td>2023-03-15 16:37:17+00:00</td>\n",
              "      <td>FOURPAWSUSA</td>\n",
              "      <td>#Earthquake Update: FOUR PAWS has entered Syri...</td>\n",
              "      <td>Boston, MA</td>\n",
              "      <td>244</td>\n",
              "      <td>13</td>\n",
              "    </tr>\n",
              "    <tr>\n",
              "      <th>3</th>\n",
              "      <td>2023-03-15 16:16:37+00:00</td>\n",
              "      <td>KaftVolter</td>\n",
              "      <td>#deprem #diyarbakir #sanliurfa #hatay #kahrama...</td>\n",
              "      <td>Anıttepe</td>\n",
              "      <td>207</td>\n",
              "      <td>3</td>\n",
              "    </tr>\n",
              "    <tr>\n",
              "      <th>4</th>\n",
              "      <td>2023-03-15 15:03:32+00:00</td>\n",
              "      <td>ICATinsurance</td>\n",
              "      <td>2022 brought about 18 weather disasters that c...</td>\n",
              "      <td>Broomfield, CO</td>\n",
              "      <td>231</td>\n",
              "      <td>13</td>\n",
              "    </tr>\n",
              "  </tbody>\n",
              "</table>\n",
              "</div>\n",
              "      <button class=\"colab-df-convert\" onclick=\"convertToInteractive('df-bbac2ede-cd06-4541-8b64-693120e45425')\"\n",
              "              title=\"Convert this dataframe to an interactive table.\"\n",
              "              style=\"display:none;\">\n",
              "        \n",
              "  <svg xmlns=\"http://www.w3.org/2000/svg\" height=\"24px\"viewBox=\"0 0 24 24\"\n",
              "       width=\"24px\">\n",
              "    <path d=\"M0 0h24v24H0V0z\" fill=\"none\"/>\n",
              "    <path d=\"M18.56 5.44l.94 2.06.94-2.06 2.06-.94-2.06-.94-.94-2.06-.94 2.06-2.06.94zm-11 1L8.5 8.5l.94-2.06 2.06-.94-2.06-.94L8.5 2.5l-.94 2.06-2.06.94zm10 10l.94 2.06.94-2.06 2.06-.94-2.06-.94-.94-2.06-.94 2.06-2.06.94z\"/><path d=\"M17.41 7.96l-1.37-1.37c-.4-.4-.92-.59-1.43-.59-.52 0-1.04.2-1.43.59L10.3 9.45l-7.72 7.72c-.78.78-.78 2.05 0 2.83L4 21.41c.39.39.9.59 1.41.59.51 0 1.02-.2 1.41-.59l7.78-7.78 2.81-2.81c.8-.78.8-2.07 0-2.86zM5.41 20L4 18.59l7.72-7.72 1.47 1.35L5.41 20z\"/>\n",
              "  </svg>\n",
              "      </button>\n",
              "      \n",
              "  <style>\n",
              "    .colab-df-container {\n",
              "      display:flex;\n",
              "      flex-wrap:wrap;\n",
              "      gap: 12px;\n",
              "    }\n",
              "\n",
              "    .colab-df-convert {\n",
              "      background-color: #E8F0FE;\n",
              "      border: none;\n",
              "      border-radius: 50%;\n",
              "      cursor: pointer;\n",
              "      display: none;\n",
              "      fill: #1967D2;\n",
              "      height: 32px;\n",
              "      padding: 0 0 0 0;\n",
              "      width: 32px;\n",
              "    }\n",
              "\n",
              "    .colab-df-convert:hover {\n",
              "      background-color: #E2EBFA;\n",
              "      box-shadow: 0px 1px 2px rgba(60, 64, 67, 0.3), 0px 1px 3px 1px rgba(60, 64, 67, 0.15);\n",
              "      fill: #174EA6;\n",
              "    }\n",
              "\n",
              "    [theme=dark] .colab-df-convert {\n",
              "      background-color: #3B4455;\n",
              "      fill: #D2E3FC;\n",
              "    }\n",
              "\n",
              "    [theme=dark] .colab-df-convert:hover {\n",
              "      background-color: #434B5C;\n",
              "      box-shadow: 0px 1px 3px 1px rgba(0, 0, 0, 0.15);\n",
              "      filter: drop-shadow(0px 1px 2px rgba(0, 0, 0, 0.3));\n",
              "      fill: #FFFFFF;\n",
              "    }\n",
              "  </style>\n",
              "\n",
              "      <script>\n",
              "        const buttonEl =\n",
              "          document.querySelector('#df-bbac2ede-cd06-4541-8b64-693120e45425 button.colab-df-convert');\n",
              "        buttonEl.style.display =\n",
              "          google.colab.kernel.accessAllowed ? 'block' : 'none';\n",
              "\n",
              "        async function convertToInteractive(key) {\n",
              "          const element = document.querySelector('#df-bbac2ede-cd06-4541-8b64-693120e45425');\n",
              "          const dataTable =\n",
              "            await google.colab.kernel.invokeFunction('convertToInteractive',\n",
              "                                                     [key], {});\n",
              "          if (!dataTable) return;\n",
              "\n",
              "          const docLinkHtml = 'Like what you see? Visit the ' +\n",
              "            '<a target=\"_blank\" href=https://colab.research.google.com/notebooks/data_table.ipynb>data table notebook</a>'\n",
              "            + ' to learn more about interactive tables.';\n",
              "          element.innerHTML = '';\n",
              "          dataTable['output_type'] = 'display_data';\n",
              "          await google.colab.output.renderOutput(dataTable, element);\n",
              "          const docLink = document.createElement('div');\n",
              "          docLink.innerHTML = docLinkHtml;\n",
              "          element.appendChild(docLink);\n",
              "        }\n",
              "      </script>\n",
              "    </div>\n",
              "  </div>\n",
              "  "
            ]
          },
          "metadata": {},
          "execution_count": 30
        }
      ]
    },
    {
      "cell_type": "code",
      "source": [
        "pip install transformers"
      ],
      "metadata": {
        "id": "zrxulBlIqr7A",
        "colab": {
          "base_uri": "https://localhost:8080/"
        },
        "outputId": "b0047762-d114-4739-9dfd-37ba9cefe143"
      },
      "execution_count": null,
      "outputs": [
        {
          "output_type": "stream",
          "name": "stdout",
          "text": [
            "Looking in indexes: https://pypi.org/simple, https://us-python.pkg.dev/colab-wheels/public/simple/\n",
            "Requirement already satisfied: transformers in /usr/local/lib/python3.9/dist-packages (4.27.3)\n",
            "Requirement already satisfied: requests in /usr/local/lib/python3.9/dist-packages (from transformers) (2.27.1)\n",
            "Requirement already satisfied: tokenizers!=0.11.3,<0.14,>=0.11.1 in /usr/local/lib/python3.9/dist-packages (from transformers) (0.13.2)\n",
            "Requirement already satisfied: pyyaml>=5.1 in /usr/local/lib/python3.9/dist-packages (from transformers) (6.0)\n",
            "Requirement already satisfied: packaging>=20.0 in /usr/local/lib/python3.9/dist-packages (from transformers) (23.0)\n",
            "Requirement already satisfied: filelock in /usr/local/lib/python3.9/dist-packages (from transformers) (3.10.1)\n",
            "Requirement already satisfied: numpy>=1.17 in /usr/local/lib/python3.9/dist-packages (from transformers) (1.22.4)\n",
            "Requirement already satisfied: huggingface-hub<1.0,>=0.11.0 in /usr/local/lib/python3.9/dist-packages (from transformers) (0.13.3)\n",
            "Requirement already satisfied: regex!=2019.12.17 in /usr/local/lib/python3.9/dist-packages (from transformers) (2022.10.31)\n",
            "Requirement already satisfied: tqdm>=4.27 in /usr/local/lib/python3.9/dist-packages (from transformers) (4.65.0)\n",
            "Requirement already satisfied: typing-extensions>=3.7.4.3 in /usr/local/lib/python3.9/dist-packages (from huggingface-hub<1.0,>=0.11.0->transformers) (4.5.0)\n",
            "Requirement already satisfied: charset-normalizer~=2.0.0 in /usr/local/lib/python3.9/dist-packages (from requests->transformers) (2.0.12)\n",
            "Requirement already satisfied: idna<4,>=2.5 in /usr/local/lib/python3.9/dist-packages (from requests->transformers) (3.4)\n",
            "Requirement already satisfied: certifi>=2017.4.17 in /usr/local/lib/python3.9/dist-packages (from requests->transformers) (2022.12.7)\n",
            "Requirement already satisfied: urllib3<1.27,>=1.21.1 in /usr/local/lib/python3.9/dist-packages (from requests->transformers) (1.26.15)\n"
          ]
        }
      ]
    },
    {
      "cell_type": "code",
      "source": [
        "from transformers import pipeline\n",
        "\n",
        "nlp = pipeline(\"ner\", model=\"bert-base-cased\")\n"
      ],
      "metadata": {
        "id": "W-Fl8jTStwsd",
        "colab": {
          "base_uri": "https://localhost:8080/"
        },
        "outputId": "009d0b8a-a065-41c9-9e24-662672a593a0"
      },
      "execution_count": null,
      "outputs": [
        {
          "output_type": "stream",
          "name": "stderr",
          "text": [
            "Some weights of the model checkpoint at bert-base-cased were not used when initializing BertForTokenClassification: ['cls.seq_relationship.bias', 'cls.predictions.transform.LayerNorm.bias', 'cls.predictions.transform.dense.weight', 'cls.predictions.decoder.weight', 'cls.predictions.bias', 'cls.predictions.transform.dense.bias', 'cls.predictions.transform.LayerNorm.weight', 'cls.seq_relationship.weight']\n",
            "- This IS expected if you are initializing BertForTokenClassification from the checkpoint of a model trained on another task or with another architecture (e.g. initializing a BertForSequenceClassification model from a BertForPreTraining model).\n",
            "- This IS NOT expected if you are initializing BertForTokenClassification from the checkpoint of a model that you expect to be exactly identical (initializing a BertForSequenceClassification model from a BertForSequenceClassification model).\n",
            "Some weights of BertForTokenClassification were not initialized from the model checkpoint at bert-base-cased and are newly initialized: ['classifier.bias', 'classifier.weight']\n",
            "You should probably TRAIN this model on a down-stream task to be able to use it for predictions and inference.\n"
          ]
        }
      ]
    },
    {
      "cell_type": "code",
      "source": [
        "import spacy\n",
        "import re\n",
        "!python3 -m spacy download xx_ent_wiki_sm\n"
      ],
      "metadata": {
        "id": "Hbn0G1hFwUu3",
        "colab": {
          "base_uri": "https://localhost:8080/"
        },
        "outputId": "b89fd124-3807-4f8a-be83-dfb10a2d9e95"
      },
      "execution_count": null,
      "outputs": [
        {
          "output_type": "stream",
          "name": "stdout",
          "text": [
            "/usr/local/lib/python3.9/dist-packages/torch/cuda/__init__.py:497: UserWarning: Can't initialize NVML\n",
            "  warnings.warn(\"Can't initialize NVML\")\n",
            "2023-03-26 10:59:39.291324: W tensorflow/compiler/xla/stream_executor/platform/default/dso_loader.cc:64] Could not load dynamic library 'libnvinfer.so.7'; dlerror: libnvinfer.so.7: cannot open shared object file: No such file or directory; LD_LIBRARY_PATH: /usr/local/nvidia/lib:/usr/local/nvidia/lib64\n",
            "2023-03-26 10:59:39.291401: W tensorflow/compiler/xla/stream_executor/platform/default/dso_loader.cc:64] Could not load dynamic library 'libnvinfer_plugin.so.7'; dlerror: libnvinfer_plugin.so.7: cannot open shared object file: No such file or directory; LD_LIBRARY_PATH: /usr/local/nvidia/lib:/usr/local/nvidia/lib64\n",
            "2023-03-26 10:59:39.291414: W tensorflow/compiler/tf2tensorrt/utils/py_utils.cc:38] TF-TRT Warning: Cannot dlopen some TensorRT libraries. If you would like to use Nvidia GPU with TensorRT, please make sure the missing libraries mentioned above are installed properly.\n",
            "2023-03-26 10:59:40.685700: E tensorflow/compiler/xla/stream_executor/cuda/cuda_driver.cc:267] failed call to cuInit: CUDA_ERROR_NO_DEVICE: no CUDA-capable device is detected\n",
            "Looking in indexes: https://pypi.org/simple, https://us-python.pkg.dev/colab-wheels/public/simple/\n",
            "Collecting xx-ent-wiki-sm==3.5.0\n",
            "  Downloading https://github.com/explosion/spacy-models/releases/download/xx_ent_wiki_sm-3.5.0/xx_ent_wiki_sm-3.5.0-py3-none-any.whl (11.1 MB)\n",
            "\u001b[2K     \u001b[90m━━━━━━━━━━━━━━━━━━━━━━━━━━━━━━━━━━━━━━━━\u001b[0m \u001b[32m11.1/11.1 MB\u001b[0m \u001b[31m35.7 MB/s\u001b[0m eta \u001b[36m0:00:00\u001b[0m\n",
            "\u001b[?25hRequirement already satisfied: spacy<3.6.0,>=3.5.0 in /usr/local/lib/python3.9/dist-packages (from xx-ent-wiki-sm==3.5.0) (3.5.1)\n",
            "Requirement already satisfied: tqdm<5.0.0,>=4.38.0 in /usr/local/lib/python3.9/dist-packages (from spacy<3.6.0,>=3.5.0->xx-ent-wiki-sm==3.5.0) (4.65.0)\n",
            "Requirement already satisfied: srsly<3.0.0,>=2.4.3 in /usr/local/lib/python3.9/dist-packages (from spacy<3.6.0,>=3.5.0->xx-ent-wiki-sm==3.5.0) (2.4.6)\n",
            "Requirement already satisfied: jinja2 in /usr/local/lib/python3.9/dist-packages (from spacy<3.6.0,>=3.5.0->xx-ent-wiki-sm==3.5.0) (3.1.2)\n",
            "Requirement already satisfied: spacy-legacy<3.1.0,>=3.0.11 in /usr/local/lib/python3.9/dist-packages (from spacy<3.6.0,>=3.5.0->xx-ent-wiki-sm==3.5.0) (3.0.12)\n",
            "Requirement already satisfied: pathy>=0.10.0 in /usr/local/lib/python3.9/dist-packages (from spacy<3.6.0,>=3.5.0->xx-ent-wiki-sm==3.5.0) (0.10.1)\n",
            "Requirement already satisfied: packaging>=20.0 in /usr/local/lib/python3.9/dist-packages (from spacy<3.6.0,>=3.5.0->xx-ent-wiki-sm==3.5.0) (23.0)\n",
            "Requirement already satisfied: spacy-loggers<2.0.0,>=1.0.0 in /usr/local/lib/python3.9/dist-packages (from spacy<3.6.0,>=3.5.0->xx-ent-wiki-sm==3.5.0) (1.0.4)\n",
            "Requirement already satisfied: cymem<2.1.0,>=2.0.2 in /usr/local/lib/python3.9/dist-packages (from spacy<3.6.0,>=3.5.0->xx-ent-wiki-sm==3.5.0) (2.0.7)\n",
            "Requirement already satisfied: murmurhash<1.1.0,>=0.28.0 in /usr/local/lib/python3.9/dist-packages (from spacy<3.6.0,>=3.5.0->xx-ent-wiki-sm==3.5.0) (1.0.9)\n",
            "Requirement already satisfied: wasabi<1.2.0,>=0.9.1 in /usr/local/lib/python3.9/dist-packages (from spacy<3.6.0,>=3.5.0->xx-ent-wiki-sm==3.5.0) (1.1.1)\n",
            "Requirement already satisfied: smart-open<7.0.0,>=5.2.1 in /usr/local/lib/python3.9/dist-packages (from spacy<3.6.0,>=3.5.0->xx-ent-wiki-sm==3.5.0) (6.3.0)\n",
            "Requirement already satisfied: requests<3.0.0,>=2.13.0 in /usr/local/lib/python3.9/dist-packages (from spacy<3.6.0,>=3.5.0->xx-ent-wiki-sm==3.5.0) (2.27.1)\n",
            "Requirement already satisfied: pydantic!=1.8,!=1.8.1,<1.11.0,>=1.7.4 in /usr/local/lib/python3.9/dist-packages (from spacy<3.6.0,>=3.5.0->xx-ent-wiki-sm==3.5.0) (1.10.7)\n",
            "Requirement already satisfied: preshed<3.1.0,>=3.0.2 in /usr/local/lib/python3.9/dist-packages (from spacy<3.6.0,>=3.5.0->xx-ent-wiki-sm==3.5.0) (3.0.8)\n",
            "Requirement already satisfied: thinc<8.2.0,>=8.1.8 in /usr/local/lib/python3.9/dist-packages (from spacy<3.6.0,>=3.5.0->xx-ent-wiki-sm==3.5.0) (8.1.9)\n",
            "Requirement already satisfied: numpy>=1.15.0 in /usr/local/lib/python3.9/dist-packages (from spacy<3.6.0,>=3.5.0->xx-ent-wiki-sm==3.5.0) (1.22.4)\n",
            "Requirement already satisfied: catalogue<2.1.0,>=2.0.6 in /usr/local/lib/python3.9/dist-packages (from spacy<3.6.0,>=3.5.0->xx-ent-wiki-sm==3.5.0) (2.0.8)\n",
            "Requirement already satisfied: setuptools in /usr/local/lib/python3.9/dist-packages (from spacy<3.6.0,>=3.5.0->xx-ent-wiki-sm==3.5.0) (67.6.0)\n",
            "Requirement already satisfied: langcodes<4.0.0,>=3.2.0 in /usr/local/lib/python3.9/dist-packages (from spacy<3.6.0,>=3.5.0->xx-ent-wiki-sm==3.5.0) (3.3.0)\n",
            "Requirement already satisfied: typer<0.8.0,>=0.3.0 in /usr/local/lib/python3.9/dist-packages (from spacy<3.6.0,>=3.5.0->xx-ent-wiki-sm==3.5.0) (0.7.0)\n",
            "Requirement already satisfied: typing-extensions>=4.2.0 in /usr/local/lib/python3.9/dist-packages (from pydantic!=1.8,!=1.8.1,<1.11.0,>=1.7.4->spacy<3.6.0,>=3.5.0->xx-ent-wiki-sm==3.5.0) (4.5.0)\n",
            "Requirement already satisfied: urllib3<1.27,>=1.21.1 in /usr/local/lib/python3.9/dist-packages (from requests<3.0.0,>=2.13.0->spacy<3.6.0,>=3.5.0->xx-ent-wiki-sm==3.5.0) (1.26.15)\n",
            "Requirement already satisfied: certifi>=2017.4.17 in /usr/local/lib/python3.9/dist-packages (from requests<3.0.0,>=2.13.0->spacy<3.6.0,>=3.5.0->xx-ent-wiki-sm==3.5.0) (2022.12.7)\n",
            "Requirement already satisfied: idna<4,>=2.5 in /usr/local/lib/python3.9/dist-packages (from requests<3.0.0,>=2.13.0->spacy<3.6.0,>=3.5.0->xx-ent-wiki-sm==3.5.0) (3.4)\n",
            "Requirement already satisfied: charset-normalizer~=2.0.0 in /usr/local/lib/python3.9/dist-packages (from requests<3.0.0,>=2.13.0->spacy<3.6.0,>=3.5.0->xx-ent-wiki-sm==3.5.0) (2.0.12)\n",
            "Requirement already satisfied: confection<1.0.0,>=0.0.1 in /usr/local/lib/python3.9/dist-packages (from thinc<8.2.0,>=8.1.8->spacy<3.6.0,>=3.5.0->xx-ent-wiki-sm==3.5.0) (0.0.4)\n",
            "Requirement already satisfied: blis<0.8.0,>=0.7.8 in /usr/local/lib/python3.9/dist-packages (from thinc<8.2.0,>=8.1.8->spacy<3.6.0,>=3.5.0->xx-ent-wiki-sm==3.5.0) (0.7.9)\n",
            "Requirement already satisfied: click<9.0.0,>=7.1.1 in /usr/local/lib/python3.9/dist-packages (from typer<0.8.0,>=0.3.0->spacy<3.6.0,>=3.5.0->xx-ent-wiki-sm==3.5.0) (8.1.3)\n",
            "Requirement already satisfied: MarkupSafe>=2.0 in /usr/local/lib/python3.9/dist-packages (from jinja2->spacy<3.6.0,>=3.5.0->xx-ent-wiki-sm==3.5.0) (2.1.2)\n",
            "\u001b[38;5;2m✔ Download and installation successful\u001b[0m\n",
            "You can now load the package via spacy.load('xx_ent_wiki_sm')\n"
          ]
        }
      ]
    },
    {
      "cell_type": "code",
      "source": [
        "# Load necessary libraries\n",
        "import spacy\n",
        "import re\n",
        "from geopy.geocoders import Nominatim\n",
        "\n",
        "# Load pre-trained BERT model and tokenizer\n",
        "nlp = spacy.load('en_core_web_sm')\n",
        "\n",
        "# Define example text\n",
        "text = \"I have lived in Delhi united States,Delhi united States, Germany and Berlin,Delhi united States, Connecticut. Also visited Paris, Rome and Mumbai.\"\n",
        "\n",
        "# Extract entities using spacy NER\n",
        "geolocator = Nominatim(user_agent=\"my_app\")\n",
        "city_country_pairs = {}\n",
        "doc = nlp(text)\n",
        "for ent in doc.ents:\n",
        "    if ent.label_ == 'GPE':\n",
        "        city = ent.text\n",
        "        if city in city_country_pairs:\n",
        "            continue\n",
        "        try:\n",
        "            # Get location information of city using geopy\n",
        "            location = geolocator.geocode(city)\n",
        "            country = location.raw['display_name'].split(\",\")[-1].strip()\n",
        "        except:\n",
        "            country = 'unknown'\n",
        "        city_country_pairs[city] = country\n",
        "\n",
        "# Print extracted city-country pairs\n",
        "if city_country_pairs:\n",
        "    print(\"Cities and their countries:\")\n",
        "    for city, country in city_country_pairs.items():\n",
        "        print(f\"{city}: {country}\")\n",
        "else:\n",
        "    print(\"No cities found in text.\")\n"
      ],
      "metadata": {
        "id": "jI5JNM-2-FrY",
        "colab": {
          "base_uri": "https://localhost:8080/"
        },
        "outputId": "0064224d-fb7f-4736-fc01-eca7b53463e4"
      },
      "execution_count": null,
      "outputs": [
        {
          "output_type": "stream",
          "name": "stdout",
          "text": [
            "Cities and their countries:\n",
            "Delhi united States: United States\n",
            "Germany: Deutschland\n",
            "Berlin: Deutschland\n",
            "Connecticut: United States\n",
            "Paris: France\n",
            "Rome: Italia\n",
            "Mumbai: India\n"
          ]
        }
      ]
    },
    {
      "cell_type": "code",
      "source": [
        "import spacy\n",
        "from spacy import displacy \n",
        "!python3 -m spacy download xx_ent_wiki_sm\n",
        "!pip install IPython"
      ],
      "metadata": {
        "id": "lkmSOAPB2Qp3",
        "colab": {
          "base_uri": "https://localhost:8080/"
        },
        "outputId": "70dfa466-a17a-44c8-8d98-747f12959a26"
      },
      "execution_count": null,
      "outputs": [
        {
          "output_type": "stream",
          "name": "stdout",
          "text": [
            "/usr/local/lib/python3.9/dist-packages/torch/cuda/__init__.py:497: UserWarning: Can't initialize NVML\n",
            "  warnings.warn(\"Can't initialize NVML\")\n",
            "2023-03-26 11:00:44.859508: W tensorflow/compiler/xla/stream_executor/platform/default/dso_loader.cc:64] Could not load dynamic library 'libnvinfer.so.7'; dlerror: libnvinfer.so.7: cannot open shared object file: No such file or directory; LD_LIBRARY_PATH: /usr/local/nvidia/lib:/usr/local/nvidia/lib64\n",
            "2023-03-26 11:00:44.860314: W tensorflow/compiler/xla/stream_executor/platform/default/dso_loader.cc:64] Could not load dynamic library 'libnvinfer_plugin.so.7'; dlerror: libnvinfer_plugin.so.7: cannot open shared object file: No such file or directory; LD_LIBRARY_PATH: /usr/local/nvidia/lib:/usr/local/nvidia/lib64\n",
            "2023-03-26 11:00:44.860333: W tensorflow/compiler/tf2tensorrt/utils/py_utils.cc:38] TF-TRT Warning: Cannot dlopen some TensorRT libraries. If you would like to use Nvidia GPU with TensorRT, please make sure the missing libraries mentioned above are installed properly.\n",
            "2023-03-26 11:00:46.194795: E tensorflow/compiler/xla/stream_executor/cuda/cuda_driver.cc:267] failed call to cuInit: CUDA_ERROR_NO_DEVICE: no CUDA-capable device is detected\n",
            "Looking in indexes: https://pypi.org/simple, https://us-python.pkg.dev/colab-wheels/public/simple/\n",
            "Collecting xx-ent-wiki-sm==3.5.0\n",
            "  Downloading https://github.com/explosion/spacy-models/releases/download/xx_ent_wiki_sm-3.5.0/xx_ent_wiki_sm-3.5.0-py3-none-any.whl (11.1 MB)\n",
            "\u001b[2K     \u001b[90m━━━━━━━━━━━━━━━━━━━━━━━━━━━━━━━━━━━━━━━━\u001b[0m \u001b[32m11.1/11.1 MB\u001b[0m \u001b[31m86.4 MB/s\u001b[0m eta \u001b[36m0:00:00\u001b[0m\n",
            "\u001b[?25hRequirement already satisfied: spacy<3.6.0,>=3.5.0 in /usr/local/lib/python3.9/dist-packages (from xx-ent-wiki-sm==3.5.0) (3.5.1)\n",
            "Requirement already satisfied: requests<3.0.0,>=2.13.0 in /usr/local/lib/python3.9/dist-packages (from spacy<3.6.0,>=3.5.0->xx-ent-wiki-sm==3.5.0) (2.27.1)\n",
            "Requirement already satisfied: pathy>=0.10.0 in /usr/local/lib/python3.9/dist-packages (from spacy<3.6.0,>=3.5.0->xx-ent-wiki-sm==3.5.0) (0.10.1)\n",
            "Requirement already satisfied: packaging>=20.0 in /usr/local/lib/python3.9/dist-packages (from spacy<3.6.0,>=3.5.0->xx-ent-wiki-sm==3.5.0) (23.0)\n",
            "Requirement already satisfied: tqdm<5.0.0,>=4.38.0 in /usr/local/lib/python3.9/dist-packages (from spacy<3.6.0,>=3.5.0->xx-ent-wiki-sm==3.5.0) (4.65.0)\n",
            "Requirement already satisfied: murmurhash<1.1.0,>=0.28.0 in /usr/local/lib/python3.9/dist-packages (from spacy<3.6.0,>=3.5.0->xx-ent-wiki-sm==3.5.0) (1.0.9)\n",
            "Requirement already satisfied: srsly<3.0.0,>=2.4.3 in /usr/local/lib/python3.9/dist-packages (from spacy<3.6.0,>=3.5.0->xx-ent-wiki-sm==3.5.0) (2.4.6)\n",
            "Requirement already satisfied: numpy>=1.15.0 in /usr/local/lib/python3.9/dist-packages (from spacy<3.6.0,>=3.5.0->xx-ent-wiki-sm==3.5.0) (1.22.4)\n",
            "Requirement already satisfied: spacy-loggers<2.0.0,>=1.0.0 in /usr/local/lib/python3.9/dist-packages (from spacy<3.6.0,>=3.5.0->xx-ent-wiki-sm==3.5.0) (1.0.4)\n",
            "Requirement already satisfied: preshed<3.1.0,>=3.0.2 in /usr/local/lib/python3.9/dist-packages (from spacy<3.6.0,>=3.5.0->xx-ent-wiki-sm==3.5.0) (3.0.8)\n",
            "Requirement already satisfied: jinja2 in /usr/local/lib/python3.9/dist-packages (from spacy<3.6.0,>=3.5.0->xx-ent-wiki-sm==3.5.0) (3.1.2)\n",
            "Requirement already satisfied: smart-open<7.0.0,>=5.2.1 in /usr/local/lib/python3.9/dist-packages (from spacy<3.6.0,>=3.5.0->xx-ent-wiki-sm==3.5.0) (6.3.0)\n",
            "Requirement already satisfied: spacy-legacy<3.1.0,>=3.0.11 in /usr/local/lib/python3.9/dist-packages (from spacy<3.6.0,>=3.5.0->xx-ent-wiki-sm==3.5.0) (3.0.12)\n",
            "Requirement already satisfied: thinc<8.2.0,>=8.1.8 in /usr/local/lib/python3.9/dist-packages (from spacy<3.6.0,>=3.5.0->xx-ent-wiki-sm==3.5.0) (8.1.9)\n",
            "Requirement already satisfied: cymem<2.1.0,>=2.0.2 in /usr/local/lib/python3.9/dist-packages (from spacy<3.6.0,>=3.5.0->xx-ent-wiki-sm==3.5.0) (2.0.7)\n",
            "Requirement already satisfied: typer<0.8.0,>=0.3.0 in /usr/local/lib/python3.9/dist-packages (from spacy<3.6.0,>=3.5.0->xx-ent-wiki-sm==3.5.0) (0.7.0)\n",
            "Requirement already satisfied: langcodes<4.0.0,>=3.2.0 in /usr/local/lib/python3.9/dist-packages (from spacy<3.6.0,>=3.5.0->xx-ent-wiki-sm==3.5.0) (3.3.0)\n",
            "Requirement already satisfied: wasabi<1.2.0,>=0.9.1 in /usr/local/lib/python3.9/dist-packages (from spacy<3.6.0,>=3.5.0->xx-ent-wiki-sm==3.5.0) (1.1.1)\n",
            "Requirement already satisfied: catalogue<2.1.0,>=2.0.6 in /usr/local/lib/python3.9/dist-packages (from spacy<3.6.0,>=3.5.0->xx-ent-wiki-sm==3.5.0) (2.0.8)\n",
            "Requirement already satisfied: pydantic!=1.8,!=1.8.1,<1.11.0,>=1.7.4 in /usr/local/lib/python3.9/dist-packages (from spacy<3.6.0,>=3.5.0->xx-ent-wiki-sm==3.5.0) (1.10.7)\n",
            "Requirement already satisfied: setuptools in /usr/local/lib/python3.9/dist-packages (from spacy<3.6.0,>=3.5.0->xx-ent-wiki-sm==3.5.0) (67.6.0)\n",
            "Requirement already satisfied: typing-extensions>=4.2.0 in /usr/local/lib/python3.9/dist-packages (from pydantic!=1.8,!=1.8.1,<1.11.0,>=1.7.4->spacy<3.6.0,>=3.5.0->xx-ent-wiki-sm==3.5.0) (4.5.0)\n",
            "Requirement already satisfied: charset-normalizer~=2.0.0 in /usr/local/lib/python3.9/dist-packages (from requests<3.0.0,>=2.13.0->spacy<3.6.0,>=3.5.0->xx-ent-wiki-sm==3.5.0) (2.0.12)\n",
            "Requirement already satisfied: certifi>=2017.4.17 in /usr/local/lib/python3.9/dist-packages (from requests<3.0.0,>=2.13.0->spacy<3.6.0,>=3.5.0->xx-ent-wiki-sm==3.5.0) (2022.12.7)\n",
            "Requirement already satisfied: urllib3<1.27,>=1.21.1 in /usr/local/lib/python3.9/dist-packages (from requests<3.0.0,>=2.13.0->spacy<3.6.0,>=3.5.0->xx-ent-wiki-sm==3.5.0) (1.26.15)\n",
            "Requirement already satisfied: idna<4,>=2.5 in /usr/local/lib/python3.9/dist-packages (from requests<3.0.0,>=2.13.0->spacy<3.6.0,>=3.5.0->xx-ent-wiki-sm==3.5.0) (3.4)\n",
            "Requirement already satisfied: blis<0.8.0,>=0.7.8 in /usr/local/lib/python3.9/dist-packages (from thinc<8.2.0,>=8.1.8->spacy<3.6.0,>=3.5.0->xx-ent-wiki-sm==3.5.0) (0.7.9)\n",
            "Requirement already satisfied: confection<1.0.0,>=0.0.1 in /usr/local/lib/python3.9/dist-packages (from thinc<8.2.0,>=8.1.8->spacy<3.6.0,>=3.5.0->xx-ent-wiki-sm==3.5.0) (0.0.4)\n",
            "Requirement already satisfied: click<9.0.0,>=7.1.1 in /usr/local/lib/python3.9/dist-packages (from typer<0.8.0,>=0.3.0->spacy<3.6.0,>=3.5.0->xx-ent-wiki-sm==3.5.0) (8.1.3)\n",
            "Requirement already satisfied: MarkupSafe>=2.0 in /usr/local/lib/python3.9/dist-packages (from jinja2->spacy<3.6.0,>=3.5.0->xx-ent-wiki-sm==3.5.0) (2.1.2)\n",
            "\u001b[38;5;2m✔ Download and installation successful\u001b[0m\n",
            "You can now load the package via spacy.load('xx_ent_wiki_sm')\n",
            "Looking in indexes: https://pypi.org/simple, https://us-python.pkg.dev/colab-wheels/public/simple/\n",
            "Requirement already satisfied: IPython in /usr/local/lib/python3.9/dist-packages (7.9.0)\n",
            "Requirement already satisfied: traitlets>=4.2 in /usr/local/lib/python3.9/dist-packages (from IPython) (5.7.1)\n",
            "Requirement already satisfied: setuptools>=18.5 in /usr/local/lib/python3.9/dist-packages (from IPython) (67.6.0)\n",
            "Requirement already satisfied: pygments in /usr/local/lib/python3.9/dist-packages (from IPython) (2.14.0)\n",
            "Requirement already satisfied: jedi>=0.10 in /usr/local/lib/python3.9/dist-packages (from IPython) (0.18.2)\n",
            "Requirement already satisfied: pexpect in /usr/local/lib/python3.9/dist-packages (from IPython) (4.8.0)\n",
            "Requirement already satisfied: decorator in /usr/local/lib/python3.9/dist-packages (from IPython) (4.4.2)\n",
            "Requirement already satisfied: prompt-toolkit<2.1.0,>=2.0.0 in /usr/local/lib/python3.9/dist-packages (from IPython) (2.0.10)\n",
            "Requirement already satisfied: pickleshare in /usr/local/lib/python3.9/dist-packages (from IPython) (0.7.5)\n",
            "Requirement already satisfied: backcall in /usr/local/lib/python3.9/dist-packages (from IPython) (0.2.0)\n",
            "Requirement already satisfied: parso<0.9.0,>=0.8.0 in /usr/local/lib/python3.9/dist-packages (from jedi>=0.10->IPython) (0.8.3)\n",
            "Requirement already satisfied: wcwidth in /usr/local/lib/python3.9/dist-packages (from prompt-toolkit<2.1.0,>=2.0.0->IPython) (0.2.6)\n",
            "Requirement already satisfied: six>=1.9.0 in /usr/local/lib/python3.9/dist-packages (from prompt-toolkit<2.1.0,>=2.0.0->IPython) (1.16.0)\n",
            "Requirement already satisfied: ptyprocess>=0.5 in /usr/local/lib/python3.9/dist-packages (from pexpect->IPython) (0.7.0)\n"
          ]
        }
      ]
    },
    {
      "cell_type": "code",
      "source": [
        "dataf=df\n",
        "dataf=dataf.dropna()\n"
      ],
      "metadata": {
        "id": "x8vzFIx4cI-N"
      },
      "execution_count": null,
      "outputs": []
    },
    {
      "cell_type": "code",
      "source": [
        "dataf=dataf.reset_index()\n",
        "dataf\n"
      ],
      "metadata": {
        "colab": {
          "base_uri": "https://localhost:8080/",
          "height": 332
        },
        "id": "wiKRs64tnjax",
        "outputId": "c3fa8050-faf0-414a-eb12-246fcb63a90e"
      },
      "execution_count": null,
      "outputs": [
        {
          "output_type": "execute_result",
          "data": {
            "text/plain": [
              "   index                       Date           User  \\\n",
              "0      0  2023-03-15 17:45:53+00:00      LastQuake   \n",
              "1      1  2023-03-15 16:42:26+00:00  ami_choudhury   \n",
              "2      2  2023-03-15 16:37:17+00:00    FOURPAWSUSA   \n",
              "3      3  2023-03-15 16:16:37+00:00     KaftVolter   \n",
              "4      4  2023-03-15 15:03:32+00:00  ICATinsurance   \n",
              "5      5  2023-03-15 15:01:17+00:00     baitulmaal   \n",
              "6      6  2023-03-15 14:50:01+00:00  Micailic0Mica   \n",
              "7      7  2023-03-15 14:00:02+00:00   hayatyolu_en   \n",
              "8      9  2023-03-15 13:10:02+00:00   brightly_one   \n",
              "\n",
              "                                               Tweet  \\\n",
              "0  Help us keep doing what we've always done: inf...   \n",
              "1  The Walk 4 Hope\\n\\nPlease donate generously no...   \n",
              "2  #Earthquake Update: FOUR PAWS has entered Syri...   \n",
              "3  #deprem #diyarbakir #sanliurfa #hatay #kahrama...   \n",
              "4  2022 brought about 18 weather disasters that c...   \n",
              "5  #Baitulmaal donors enabled $5.35M in emergency...   \n",
              "6  @Beyefendiyimyav @haydarozkan06 @suleymansoylu...   \n",
              "7  Ramadan is coming🕋🌙\\nWe are still working hard...   \n",
              "8  Tip from OneBrightlyCyber: #Scammers take adva...   \n",
              "\n",
              "                         Location  char_counts  stopwords_counts  \n",
              "0  based in Paris, works globally          242                13  \n",
              "1       Bedfordshire, England, UK          249                 7  \n",
              "2                      Boston, MA          244                13  \n",
              "3                        Anıttepe          207                 3  \n",
              "4                  Broomfield, CO          231                13  \n",
              "5                   Irving, Texas          268                 4  \n",
              "6                  United Kingdom          291                17  \n",
              "7                Istanbul, Turkey          258                13  \n",
              "8            Entire United States          261                10  "
            ],
            "text/html": [
              "\n",
              "  <div id=\"df-0224906e-d1ad-4041-85bc-b35bb347c02c\">\n",
              "    <div class=\"colab-df-container\">\n",
              "      <div>\n",
              "<style scoped>\n",
              "    .dataframe tbody tr th:only-of-type {\n",
              "        vertical-align: middle;\n",
              "    }\n",
              "\n",
              "    .dataframe tbody tr th {\n",
              "        vertical-align: top;\n",
              "    }\n",
              "\n",
              "    .dataframe thead th {\n",
              "        text-align: right;\n",
              "    }\n",
              "</style>\n",
              "<table border=\"1\" class=\"dataframe\">\n",
              "  <thead>\n",
              "    <tr style=\"text-align: right;\">\n",
              "      <th></th>\n",
              "      <th>index</th>\n",
              "      <th>Date</th>\n",
              "      <th>User</th>\n",
              "      <th>Tweet</th>\n",
              "      <th>Location</th>\n",
              "      <th>char_counts</th>\n",
              "      <th>stopwords_counts</th>\n",
              "    </tr>\n",
              "  </thead>\n",
              "  <tbody>\n",
              "    <tr>\n",
              "      <th>0</th>\n",
              "      <td>0</td>\n",
              "      <td>2023-03-15 17:45:53+00:00</td>\n",
              "      <td>LastQuake</td>\n",
              "      <td>Help us keep doing what we've always done: inf...</td>\n",
              "      <td>based in Paris, works globally</td>\n",
              "      <td>242</td>\n",
              "      <td>13</td>\n",
              "    </tr>\n",
              "    <tr>\n",
              "      <th>1</th>\n",
              "      <td>1</td>\n",
              "      <td>2023-03-15 16:42:26+00:00</td>\n",
              "      <td>ami_choudhury</td>\n",
              "      <td>The Walk 4 Hope\\n\\nPlease donate generously no...</td>\n",
              "      <td>Bedfordshire, England, UK</td>\n",
              "      <td>249</td>\n",
              "      <td>7</td>\n",
              "    </tr>\n",
              "    <tr>\n",
              "      <th>2</th>\n",
              "      <td>2</td>\n",
              "      <td>2023-03-15 16:37:17+00:00</td>\n",
              "      <td>FOURPAWSUSA</td>\n",
              "      <td>#Earthquake Update: FOUR PAWS has entered Syri...</td>\n",
              "      <td>Boston, MA</td>\n",
              "      <td>244</td>\n",
              "      <td>13</td>\n",
              "    </tr>\n",
              "    <tr>\n",
              "      <th>3</th>\n",
              "      <td>3</td>\n",
              "      <td>2023-03-15 16:16:37+00:00</td>\n",
              "      <td>KaftVolter</td>\n",
              "      <td>#deprem #diyarbakir #sanliurfa #hatay #kahrama...</td>\n",
              "      <td>Anıttepe</td>\n",
              "      <td>207</td>\n",
              "      <td>3</td>\n",
              "    </tr>\n",
              "    <tr>\n",
              "      <th>4</th>\n",
              "      <td>4</td>\n",
              "      <td>2023-03-15 15:03:32+00:00</td>\n",
              "      <td>ICATinsurance</td>\n",
              "      <td>2022 brought about 18 weather disasters that c...</td>\n",
              "      <td>Broomfield, CO</td>\n",
              "      <td>231</td>\n",
              "      <td>13</td>\n",
              "    </tr>\n",
              "    <tr>\n",
              "      <th>5</th>\n",
              "      <td>5</td>\n",
              "      <td>2023-03-15 15:01:17+00:00</td>\n",
              "      <td>baitulmaal</td>\n",
              "      <td>#Baitulmaal donors enabled $5.35M in emergency...</td>\n",
              "      <td>Irving, Texas</td>\n",
              "      <td>268</td>\n",
              "      <td>4</td>\n",
              "    </tr>\n",
              "    <tr>\n",
              "      <th>6</th>\n",
              "      <td>6</td>\n",
              "      <td>2023-03-15 14:50:01+00:00</td>\n",
              "      <td>Micailic0Mica</td>\n",
              "      <td>@Beyefendiyimyav @haydarozkan06 @suleymansoylu...</td>\n",
              "      <td>United Kingdom</td>\n",
              "      <td>291</td>\n",
              "      <td>17</td>\n",
              "    </tr>\n",
              "    <tr>\n",
              "      <th>7</th>\n",
              "      <td>7</td>\n",
              "      <td>2023-03-15 14:00:02+00:00</td>\n",
              "      <td>hayatyolu_en</td>\n",
              "      <td>Ramadan is coming🕋🌙\\nWe are still working hard...</td>\n",
              "      <td>Istanbul, Turkey</td>\n",
              "      <td>258</td>\n",
              "      <td>13</td>\n",
              "    </tr>\n",
              "    <tr>\n",
              "      <th>8</th>\n",
              "      <td>9</td>\n",
              "      <td>2023-03-15 13:10:02+00:00</td>\n",
              "      <td>brightly_one</td>\n",
              "      <td>Tip from OneBrightlyCyber: #Scammers take adva...</td>\n",
              "      <td>Entire United States</td>\n",
              "      <td>261</td>\n",
              "      <td>10</td>\n",
              "    </tr>\n",
              "  </tbody>\n",
              "</table>\n",
              "</div>\n",
              "      <button class=\"colab-df-convert\" onclick=\"convertToInteractive('df-0224906e-d1ad-4041-85bc-b35bb347c02c')\"\n",
              "              title=\"Convert this dataframe to an interactive table.\"\n",
              "              style=\"display:none;\">\n",
              "        \n",
              "  <svg xmlns=\"http://www.w3.org/2000/svg\" height=\"24px\"viewBox=\"0 0 24 24\"\n",
              "       width=\"24px\">\n",
              "    <path d=\"M0 0h24v24H0V0z\" fill=\"none\"/>\n",
              "    <path d=\"M18.56 5.44l.94 2.06.94-2.06 2.06-.94-2.06-.94-.94-2.06-.94 2.06-2.06.94zm-11 1L8.5 8.5l.94-2.06 2.06-.94-2.06-.94L8.5 2.5l-.94 2.06-2.06.94zm10 10l.94 2.06.94-2.06 2.06-.94-2.06-.94-.94-2.06-.94 2.06-2.06.94z\"/><path d=\"M17.41 7.96l-1.37-1.37c-.4-.4-.92-.59-1.43-.59-.52 0-1.04.2-1.43.59L10.3 9.45l-7.72 7.72c-.78.78-.78 2.05 0 2.83L4 21.41c.39.39.9.59 1.41.59.51 0 1.02-.2 1.41-.59l7.78-7.78 2.81-2.81c.8-.78.8-2.07 0-2.86zM5.41 20L4 18.59l7.72-7.72 1.47 1.35L5.41 20z\"/>\n",
              "  </svg>\n",
              "      </button>\n",
              "      \n",
              "  <style>\n",
              "    .colab-df-container {\n",
              "      display:flex;\n",
              "      flex-wrap:wrap;\n",
              "      gap: 12px;\n",
              "    }\n",
              "\n",
              "    .colab-df-convert {\n",
              "      background-color: #E8F0FE;\n",
              "      border: none;\n",
              "      border-radius: 50%;\n",
              "      cursor: pointer;\n",
              "      display: none;\n",
              "      fill: #1967D2;\n",
              "      height: 32px;\n",
              "      padding: 0 0 0 0;\n",
              "      width: 32px;\n",
              "    }\n",
              "\n",
              "    .colab-df-convert:hover {\n",
              "      background-color: #E2EBFA;\n",
              "      box-shadow: 0px 1px 2px rgba(60, 64, 67, 0.3), 0px 1px 3px 1px rgba(60, 64, 67, 0.15);\n",
              "      fill: #174EA6;\n",
              "    }\n",
              "\n",
              "    [theme=dark] .colab-df-convert {\n",
              "      background-color: #3B4455;\n",
              "      fill: #D2E3FC;\n",
              "    }\n",
              "\n",
              "    [theme=dark] .colab-df-convert:hover {\n",
              "      background-color: #434B5C;\n",
              "      box-shadow: 0px 1px 3px 1px rgba(0, 0, 0, 0.15);\n",
              "      filter: drop-shadow(0px 1px 2px rgba(0, 0, 0, 0.3));\n",
              "      fill: #FFFFFF;\n",
              "    }\n",
              "  </style>\n",
              "\n",
              "      <script>\n",
              "        const buttonEl =\n",
              "          document.querySelector('#df-0224906e-d1ad-4041-85bc-b35bb347c02c button.colab-df-convert');\n",
              "        buttonEl.style.display =\n",
              "          google.colab.kernel.accessAllowed ? 'block' : 'none';\n",
              "\n",
              "        async function convertToInteractive(key) {\n",
              "          const element = document.querySelector('#df-0224906e-d1ad-4041-85bc-b35bb347c02c');\n",
              "          const dataTable =\n",
              "            await google.colab.kernel.invokeFunction('convertToInteractive',\n",
              "                                                     [key], {});\n",
              "          if (!dataTable) return;\n",
              "\n",
              "          const docLinkHtml = 'Like what you see? Visit the ' +\n",
              "            '<a target=\"_blank\" href=https://colab.research.google.com/notebooks/data_table.ipynb>data table notebook</a>'\n",
              "            + ' to learn more about interactive tables.';\n",
              "          element.innerHTML = '';\n",
              "          dataTable['output_type'] = 'display_data';\n",
              "          await google.colab.output.renderOutput(dataTable, element);\n",
              "          const docLink = document.createElement('div');\n",
              "          docLink.innerHTML = docLinkHtml;\n",
              "          element.appendChild(docLink);\n",
              "        }\n",
              "      </script>\n",
              "    </div>\n",
              "  </div>\n",
              "  "
            ]
          },
          "metadata": {},
          "execution_count": 37
        }
      ]
    },
    {
      "cell_type": "code",
      "source": [
        "j=0\n",
        "for i in dataf['User']:\n",
        "  dataf['Tweet'][j]= re.sub(r'[^\\w]',' ',dataf['Tweet'][j] ).replace(\"_\",\" \")\n",
        "  dataf['Location'][j]= re.sub(r'[^\\w]',' ',dataf['Location'][j]).replace(\"_\",\" \")\n",
        "  j=j+1\n",
        "dataf.head() "
      ],
      "metadata": {
        "colab": {
          "base_uri": "https://localhost:8080/",
          "height": 380
        },
        "id": "z-kkuwZ5EuM1",
        "outputId": "1810b560-0c1f-4bd5-d908-25ecaa604c7f"
      },
      "execution_count": null,
      "outputs": [
        {
          "output_type": "stream",
          "name": "stderr",
          "text": [
            "<ipython-input-38-871a5a5c753b>:3: SettingWithCopyWarning: \n",
            "A value is trying to be set on a copy of a slice from a DataFrame\n",
            "\n",
            "See the caveats in the documentation: https://pandas.pydata.org/pandas-docs/stable/user_guide/indexing.html#returning-a-view-versus-a-copy\n",
            "  dataf['Tweet'][j]= re.sub(r'[^\\w]',' ',dataf['Tweet'][j] ).replace(\"_\",\" \")\n",
            "<ipython-input-38-871a5a5c753b>:4: SettingWithCopyWarning: \n",
            "A value is trying to be set on a copy of a slice from a DataFrame\n",
            "\n",
            "See the caveats in the documentation: https://pandas.pydata.org/pandas-docs/stable/user_guide/indexing.html#returning-a-view-versus-a-copy\n",
            "  dataf['Location'][j]= re.sub(r'[^\\w]',' ',dataf['Location'][j]).replace(\"_\",\" \")\n"
          ]
        },
        {
          "output_type": "execute_result",
          "data": {
            "text/plain": [
              "   index                       Date           User  \\\n",
              "0      0  2023-03-15 17:45:53+00:00      LastQuake   \n",
              "1      1  2023-03-15 16:42:26+00:00  ami_choudhury   \n",
              "2      2  2023-03-15 16:37:17+00:00    FOURPAWSUSA   \n",
              "3      3  2023-03-15 16:16:37+00:00     KaftVolter   \n",
              "4      4  2023-03-15 15:03:32+00:00  ICATinsurance   \n",
              "\n",
              "                                               Tweet  \\\n",
              "0  Help us keep doing what we ve always done  inf...   \n",
              "1  The Walk 4 Hope  Please donate generously now ...   \n",
              "2   Earthquake Update  FOUR PAWS has entered Syri...   \n",
              "3   deprem  diyarbakir  sanliurfa  hatay  kahrama...   \n",
              "4  2022 brought about 18 weather disasters that c...   \n",
              "\n",
              "                         Location  char_counts  stopwords_counts  \n",
              "0  based in Paris  works globally          242                13  \n",
              "1       Bedfordshire  England  UK          249                 7  \n",
              "2                      Boston  MA          244                13  \n",
              "3                        Anıttepe          207                 3  \n",
              "4                  Broomfield  CO          231                13  "
            ],
            "text/html": [
              "\n",
              "  <div id=\"df-ee4d6970-8464-4959-8510-cae307b907d8\">\n",
              "    <div class=\"colab-df-container\">\n",
              "      <div>\n",
              "<style scoped>\n",
              "    .dataframe tbody tr th:only-of-type {\n",
              "        vertical-align: middle;\n",
              "    }\n",
              "\n",
              "    .dataframe tbody tr th {\n",
              "        vertical-align: top;\n",
              "    }\n",
              "\n",
              "    .dataframe thead th {\n",
              "        text-align: right;\n",
              "    }\n",
              "</style>\n",
              "<table border=\"1\" class=\"dataframe\">\n",
              "  <thead>\n",
              "    <tr style=\"text-align: right;\">\n",
              "      <th></th>\n",
              "      <th>index</th>\n",
              "      <th>Date</th>\n",
              "      <th>User</th>\n",
              "      <th>Tweet</th>\n",
              "      <th>Location</th>\n",
              "      <th>char_counts</th>\n",
              "      <th>stopwords_counts</th>\n",
              "    </tr>\n",
              "  </thead>\n",
              "  <tbody>\n",
              "    <tr>\n",
              "      <th>0</th>\n",
              "      <td>0</td>\n",
              "      <td>2023-03-15 17:45:53+00:00</td>\n",
              "      <td>LastQuake</td>\n",
              "      <td>Help us keep doing what we ve always done  inf...</td>\n",
              "      <td>based in Paris  works globally</td>\n",
              "      <td>242</td>\n",
              "      <td>13</td>\n",
              "    </tr>\n",
              "    <tr>\n",
              "      <th>1</th>\n",
              "      <td>1</td>\n",
              "      <td>2023-03-15 16:42:26+00:00</td>\n",
              "      <td>ami_choudhury</td>\n",
              "      <td>The Walk 4 Hope  Please donate generously now ...</td>\n",
              "      <td>Bedfordshire  England  UK</td>\n",
              "      <td>249</td>\n",
              "      <td>7</td>\n",
              "    </tr>\n",
              "    <tr>\n",
              "      <th>2</th>\n",
              "      <td>2</td>\n",
              "      <td>2023-03-15 16:37:17+00:00</td>\n",
              "      <td>FOURPAWSUSA</td>\n",
              "      <td>Earthquake Update  FOUR PAWS has entered Syri...</td>\n",
              "      <td>Boston  MA</td>\n",
              "      <td>244</td>\n",
              "      <td>13</td>\n",
              "    </tr>\n",
              "    <tr>\n",
              "      <th>3</th>\n",
              "      <td>3</td>\n",
              "      <td>2023-03-15 16:16:37+00:00</td>\n",
              "      <td>KaftVolter</td>\n",
              "      <td>deprem  diyarbakir  sanliurfa  hatay  kahrama...</td>\n",
              "      <td>Anıttepe</td>\n",
              "      <td>207</td>\n",
              "      <td>3</td>\n",
              "    </tr>\n",
              "    <tr>\n",
              "      <th>4</th>\n",
              "      <td>4</td>\n",
              "      <td>2023-03-15 15:03:32+00:00</td>\n",
              "      <td>ICATinsurance</td>\n",
              "      <td>2022 brought about 18 weather disasters that c...</td>\n",
              "      <td>Broomfield  CO</td>\n",
              "      <td>231</td>\n",
              "      <td>13</td>\n",
              "    </tr>\n",
              "  </tbody>\n",
              "</table>\n",
              "</div>\n",
              "      <button class=\"colab-df-convert\" onclick=\"convertToInteractive('df-ee4d6970-8464-4959-8510-cae307b907d8')\"\n",
              "              title=\"Convert this dataframe to an interactive table.\"\n",
              "              style=\"display:none;\">\n",
              "        \n",
              "  <svg xmlns=\"http://www.w3.org/2000/svg\" height=\"24px\"viewBox=\"0 0 24 24\"\n",
              "       width=\"24px\">\n",
              "    <path d=\"M0 0h24v24H0V0z\" fill=\"none\"/>\n",
              "    <path d=\"M18.56 5.44l.94 2.06.94-2.06 2.06-.94-2.06-.94-.94-2.06-.94 2.06-2.06.94zm-11 1L8.5 8.5l.94-2.06 2.06-.94-2.06-.94L8.5 2.5l-.94 2.06-2.06.94zm10 10l.94 2.06.94-2.06 2.06-.94-2.06-.94-.94-2.06-.94 2.06-2.06.94z\"/><path d=\"M17.41 7.96l-1.37-1.37c-.4-.4-.92-.59-1.43-.59-.52 0-1.04.2-1.43.59L10.3 9.45l-7.72 7.72c-.78.78-.78 2.05 0 2.83L4 21.41c.39.39.9.59 1.41.59.51 0 1.02-.2 1.41-.59l7.78-7.78 2.81-2.81c.8-.78.8-2.07 0-2.86zM5.41 20L4 18.59l7.72-7.72 1.47 1.35L5.41 20z\"/>\n",
              "  </svg>\n",
              "      </button>\n",
              "      \n",
              "  <style>\n",
              "    .colab-df-container {\n",
              "      display:flex;\n",
              "      flex-wrap:wrap;\n",
              "      gap: 12px;\n",
              "    }\n",
              "\n",
              "    .colab-df-convert {\n",
              "      background-color: #E8F0FE;\n",
              "      border: none;\n",
              "      border-radius: 50%;\n",
              "      cursor: pointer;\n",
              "      display: none;\n",
              "      fill: #1967D2;\n",
              "      height: 32px;\n",
              "      padding: 0 0 0 0;\n",
              "      width: 32px;\n",
              "    }\n",
              "\n",
              "    .colab-df-convert:hover {\n",
              "      background-color: #E2EBFA;\n",
              "      box-shadow: 0px 1px 2px rgba(60, 64, 67, 0.3), 0px 1px 3px 1px rgba(60, 64, 67, 0.15);\n",
              "      fill: #174EA6;\n",
              "    }\n",
              "\n",
              "    [theme=dark] .colab-df-convert {\n",
              "      background-color: #3B4455;\n",
              "      fill: #D2E3FC;\n",
              "    }\n",
              "\n",
              "    [theme=dark] .colab-df-convert:hover {\n",
              "      background-color: #434B5C;\n",
              "      box-shadow: 0px 1px 3px 1px rgba(0, 0, 0, 0.15);\n",
              "      filter: drop-shadow(0px 1px 2px rgba(0, 0, 0, 0.3));\n",
              "      fill: #FFFFFF;\n",
              "    }\n",
              "  </style>\n",
              "\n",
              "      <script>\n",
              "        const buttonEl =\n",
              "          document.querySelector('#df-ee4d6970-8464-4959-8510-cae307b907d8 button.colab-df-convert');\n",
              "        buttonEl.style.display =\n",
              "          google.colab.kernel.accessAllowed ? 'block' : 'none';\n",
              "\n",
              "        async function convertToInteractive(key) {\n",
              "          const element = document.querySelector('#df-ee4d6970-8464-4959-8510-cae307b907d8');\n",
              "          const dataTable =\n",
              "            await google.colab.kernel.invokeFunction('convertToInteractive',\n",
              "                                                     [key], {});\n",
              "          if (!dataTable) return;\n",
              "\n",
              "          const docLinkHtml = 'Like what you see? Visit the ' +\n",
              "            '<a target=\"_blank\" href=https://colab.research.google.com/notebooks/data_table.ipynb>data table notebook</a>'\n",
              "            + ' to learn more about interactive tables.';\n",
              "          element.innerHTML = '';\n",
              "          dataTable['output_type'] = 'display_data';\n",
              "          await google.colab.output.renderOutput(dataTable, element);\n",
              "          const docLink = document.createElement('div');\n",
              "          docLink.innerHTML = docLinkHtml;\n",
              "          element.appendChild(docLink);\n",
              "        }\n",
              "      </script>\n",
              "    </div>\n",
              "  </div>\n",
              "  "
            ]
          },
          "metadata": {},
          "execution_count": 38
        }
      ]
    },
    {
      "cell_type": "code",
      "source": [
        "def punctuation_removal(df):\n",
        "    df['Tweet'] = df['Tweet'].str.replace('[^\\w\\s]','')\n",
        "    df['Location'] = df['Location'].str.replace('[^\\w\\s]','')\n",
        "    print(df['Tweet'].head())\n",
        "    print(df['Location'].head())\n",
        "punctuation_removal(dataf)"
      ],
      "metadata": {
        "colab": {
          "base_uri": "https://localhost:8080/"
        },
        "id": "z9-ZQauoKjE5",
        "outputId": "9d5e670a-b632-44ca-d47c-dc40e96f92be"
      },
      "execution_count": null,
      "outputs": [
        {
          "output_type": "stream",
          "name": "stdout",
          "text": [
            "0    Help us keep doing what we ve always done  inf...\n",
            "1    The Walk 4 Hope  Please donate generously now ...\n",
            "2     Earthquake Update  FOUR PAWS has entered Syri...\n",
            "3     deprem  diyarbakir  sanliurfa  hatay  kahrama...\n",
            "4    2022 brought about 18 weather disasters that c...\n",
            "Name: Tweet, dtype: object\n",
            "0    based in Paris  works globally\n",
            "1         Bedfordshire  England  UK\n",
            "2                        Boston  MA\n",
            "3                          Anıttepe\n",
            "4                    Broomfield  CO\n",
            "Name: Location, dtype: object\n"
          ]
        },
        {
          "output_type": "stream",
          "name": "stderr",
          "text": [
            "<ipython-input-39-b0335ce412a8>:2: FutureWarning: The default value of regex will change from True to False in a future version.\n",
            "  df['Tweet'] = df['Tweet'].str.replace('[^\\w\\s]','')\n",
            "<ipython-input-39-b0335ce412a8>:3: FutureWarning: The default value of regex will change from True to False in a future version.\n",
            "  df['Location'] = df['Location'].str.replace('[^\\w\\s]','')\n"
          ]
        }
      ]
    },
    {
      "cell_type": "code",
      "source": [
        "#number of stop words\n",
        "import nltk\n",
        "nltk.download('stopwords')\n",
        "from nltk.corpus import stopwords\n",
        "stop = stopwords.words('english')"
      ],
      "metadata": {
        "colab": {
          "base_uri": "https://localhost:8080/"
        },
        "id": "gToqg85xKLkk",
        "outputId": "026fd313-3f7a-4a0c-98e8-9d11383c029e"
      },
      "execution_count": null,
      "outputs": [
        {
          "output_type": "stream",
          "name": "stderr",
          "text": [
            "[nltk_data] Downloading package stopwords to /root/nltk_data...\n",
            "[nltk_data]   Package stopwords is already up-to-date!\n"
          ]
        }
      ]
    },
    {
      "cell_type": "code",
      "source": [
        "#removing stop words\n",
        "def stop_words_removal(df):\n",
        "    df['Tweet'] = df['Tweet'].apply(lambda x: \" \".join(x for x in x.split() if x not in stop))\n",
        "    df['Location'] = df['Location'].apply(lambda x: \" \".join(x for x in x.split() if x not in stop))\n",
        "    print(df['Tweet'].head())\n",
        "    print(df['Location'].head())\n",
        "stop_words_removal(dataf)"
      ],
      "metadata": {
        "colab": {
          "base_uri": "https://localhost:8080/"
        },
        "id": "cp9DkbGgKNH2",
        "outputId": "afe9b38f-3f1c-4b63-80f0-b6720e3f72dd"
      },
      "execution_count": null,
      "outputs": [
        {
          "output_type": "stream",
          "name": "stdout",
          "text": [
            "0    Help us keep always done inform reassure citiz...\n",
            "1    The Walk 4 Hope Please donate generously link ...\n",
            "2    Earthquake Update FOUR PAWS entered Syria offe...\n",
            "3    deprem diyarbakir sanliurfa hatay kahramanmara...\n",
            "4    2022 brought 18 weather disasters caused 1 bil...\n",
            "Name: Tweet, dtype: object\n",
            "0    based Paris works globally\n",
            "1       Bedfordshire England UK\n",
            "2                     Boston MA\n",
            "3                      Anıttepe\n",
            "4                 Broomfield CO\n",
            "Name: Location, dtype: object\n"
          ]
        }
      ]
    },
    {
      "cell_type": "code",
      "source": [
        "punctuation_removal(dataf)\n"
      ],
      "metadata": {
        "colab": {
          "base_uri": "https://localhost:8080/"
        },
        "id": "H6ZOUNOOKwh_",
        "outputId": "023f0ac6-b5b2-46b8-b0d0-6c52f39b183e"
      },
      "execution_count": null,
      "outputs": [
        {
          "output_type": "stream",
          "name": "stdout",
          "text": [
            "0    Help us keep always done inform reassure citiz...\n",
            "1    The Walk 4 Hope Please donate generously link ...\n",
            "2    Earthquake Update FOUR PAWS entered Syria offe...\n",
            "3    deprem diyarbakir sanliurfa hatay kahramanmara...\n",
            "4    2022 brought 18 weather disasters caused 1 bil...\n",
            "Name: Tweet, dtype: object\n",
            "0    based Paris works globally\n",
            "1       Bedfordshire England UK\n",
            "2                     Boston MA\n",
            "3                      Anıttepe\n",
            "4                 Broomfield CO\n",
            "Name: Location, dtype: object\n"
          ]
        },
        {
          "output_type": "stream",
          "name": "stderr",
          "text": [
            "<ipython-input-39-b0335ce412a8>:2: FutureWarning: The default value of regex will change from True to False in a future version.\n",
            "  df['Tweet'] = df['Tweet'].str.replace('[^\\w\\s]','')\n",
            "<ipython-input-39-b0335ce412a8>:3: FutureWarning: The default value of regex will change from True to False in a future version.\n",
            "  df['Location'] = df['Location'].str.replace('[^\\w\\s]','')\n"
          ]
        }
      ]
    },
    {
      "cell_type": "code",
      "source": [
        "tk=[]\n",
        "import nltk\n",
        "#nltk.download('punkt')\n",
        "from nltk.tokenize import word_tokenize\n",
        "def perform_tokenization(word):\n",
        "    tokens=list(set(word_tokenize(word)))\n",
        "    tk.extend(tokens)\n",
        "    return tokens\n",
        "for i in range(0,j-1):\n",
        "  dataf.iloc[i]['Tweet']=perform_tokenization(dataf.iloc[i]['Tweet'])"
      ],
      "metadata": {
        "colab": {
          "base_uri": "https://localhost:8080/"
        },
        "id": "DKPY33baLPvW",
        "outputId": "18d36c00-6623-4849-d562-3c95f2e83b48"
      },
      "execution_count": null,
      "outputs": [
        {
          "output_type": "stream",
          "name": "stderr",
          "text": [
            "<ipython-input-43-c54995858912>:10: SettingWithCopyWarning: \n",
            "A value is trying to be set on a copy of a slice from a DataFrame\n",
            "\n",
            "See the caveats in the documentation: https://pandas.pydata.org/pandas-docs/stable/user_guide/indexing.html#returning-a-view-versus-a-copy\n",
            "  dataf.iloc[i]['Tweet']=perform_tokenization(dataf.iloc[i]['Tweet'])\n"
          ]
        }
      ]
    },
    {
      "cell_type": "code",
      "source": [
        "dataf.iloc[1]['Tweet']"
      ],
      "metadata": {
        "colab": {
          "base_uri": "https://localhost:8080/",
          "height": 53
        },
        "id": "msS5WCAUOqfG",
        "outputId": "6e34b784-d068-4cdd-eb03-a030b78506f8"
      },
      "execution_count": null,
      "outputs": [
        {
          "output_type": "execute_result",
          "data": {
            "text/plain": [
              "'The Walk 4 Hope Please donate generously link help us help affected terrible situation https co cjsPO3r3ji hrf fundraising donation syria turkey lebanon earthquake victim affected food shelter clothing help https co VIcstKgvUm'"
            ],
            "application/vnd.google.colaboratory.intrinsic+json": {
              "type": "string"
            }
          },
          "metadata": {},
          "execution_count": 44
        }
      ]
    },
    {
      "cell_type": "code",
      "source": [
        "!python -m spacy download xx_ent_wiki_sm\n",
        "import spacy\n",
        "\n",
        "nlp = spacy.load('xx_ent_wiki_sm')\n",
        "nlp.max_length = 2000000\n",
        "\n",
        "# Define a list of tokens\n",
        "tokens=tk\n",
        "\n",
        "# Join the tokens into a string\n",
        "text = \" \".join(tokens)\n",
        "\n",
        "# Create a spaCy Doc object from the string\n",
        "doc = nlp(text)\n",
        "\n",
        "# Extract named entities from the Doc object\n",
        "entities = list(doc.ents)\n",
        "\n",
        "# Print the named entities\n",
        "for entity in entities:\n",
        "    print(entity.text, entity.label_)"
      ],
      "metadata": {
        "id": "4i9nPMxm3nmG",
        "colab": {
          "base_uri": "https://localhost:8080/"
        },
        "outputId": "3ff766de-50a0-4d37-a069-57825afe8384"
      },
      "execution_count": null,
      "outputs": [
        {
          "output_type": "stream",
          "name": "stdout",
          "text": [
            "/usr/local/lib/python3.9/dist-packages/torch/cuda/__init__.py:497: UserWarning: Can't initialize NVML\n",
            "  warnings.warn(\"Can't initialize NVML\")\n",
            "2023-03-26 11:01:01.453358: W tensorflow/compiler/xla/stream_executor/platform/default/dso_loader.cc:64] Could not load dynamic library 'libnvinfer.so.7'; dlerror: libnvinfer.so.7: cannot open shared object file: No such file or directory; LD_LIBRARY_PATH: /usr/local/nvidia/lib:/usr/local/nvidia/lib64\n",
            "2023-03-26 11:01:01.453442: W tensorflow/compiler/xla/stream_executor/platform/default/dso_loader.cc:64] Could not load dynamic library 'libnvinfer_plugin.so.7'; dlerror: libnvinfer_plugin.so.7: cannot open shared object file: No such file or directory; LD_LIBRARY_PATH: /usr/local/nvidia/lib:/usr/local/nvidia/lib64\n",
            "2023-03-26 11:01:01.453454: W tensorflow/compiler/tf2tensorrt/utils/py_utils.cc:38] TF-TRT Warning: Cannot dlopen some TensorRT libraries. If you would like to use Nvidia GPU with TensorRT, please make sure the missing libraries mentioned above are installed properly.\n",
            "2023-03-26 11:01:02.902787: E tensorflow/compiler/xla/stream_executor/cuda/cuda_driver.cc:267] failed call to cuInit: CUDA_ERROR_NO_DEVICE: no CUDA-capable device is detected\n",
            "Looking in indexes: https://pypi.org/simple, https://us-python.pkg.dev/colab-wheels/public/simple/\n",
            "Collecting xx-ent-wiki-sm==3.5.0\n",
            "  Downloading https://github.com/explosion/spacy-models/releases/download/xx_ent_wiki_sm-3.5.0/xx_ent_wiki_sm-3.5.0-py3-none-any.whl (11.1 MB)\n",
            "\u001b[2K     \u001b[90m━━━━━━━━━━━━━━━━━━━━━━━━━━━━━━━━━━━━━━━━\u001b[0m \u001b[32m11.1/11.1 MB\u001b[0m \u001b[31m91.1 MB/s\u001b[0m eta \u001b[36m0:00:00\u001b[0m\n",
            "\u001b[?25hRequirement already satisfied: spacy<3.6.0,>=3.5.0 in /usr/local/lib/python3.9/dist-packages (from xx-ent-wiki-sm==3.5.0) (3.5.1)\n",
            "Requirement already satisfied: spacy-loggers<2.0.0,>=1.0.0 in /usr/local/lib/python3.9/dist-packages (from spacy<3.6.0,>=3.5.0->xx-ent-wiki-sm==3.5.0) (1.0.4)\n",
            "Requirement already satisfied: preshed<3.1.0,>=3.0.2 in /usr/local/lib/python3.9/dist-packages (from spacy<3.6.0,>=3.5.0->xx-ent-wiki-sm==3.5.0) (3.0.8)\n",
            "Requirement already satisfied: requests<3.0.0,>=2.13.0 in /usr/local/lib/python3.9/dist-packages (from spacy<3.6.0,>=3.5.0->xx-ent-wiki-sm==3.5.0) (2.27.1)\n",
            "Requirement already satisfied: pydantic!=1.8,!=1.8.1,<1.11.0,>=1.7.4 in /usr/local/lib/python3.9/dist-packages (from spacy<3.6.0,>=3.5.0->xx-ent-wiki-sm==3.5.0) (1.10.7)\n",
            "Requirement already satisfied: setuptools in /usr/local/lib/python3.9/dist-packages (from spacy<3.6.0,>=3.5.0->xx-ent-wiki-sm==3.5.0) (67.6.0)\n",
            "Requirement already satisfied: wasabi<1.2.0,>=0.9.1 in /usr/local/lib/python3.9/dist-packages (from spacy<3.6.0,>=3.5.0->xx-ent-wiki-sm==3.5.0) (1.1.1)\n",
            "Requirement already satisfied: murmurhash<1.1.0,>=0.28.0 in /usr/local/lib/python3.9/dist-packages (from spacy<3.6.0,>=3.5.0->xx-ent-wiki-sm==3.5.0) (1.0.9)\n",
            "Requirement already satisfied: langcodes<4.0.0,>=3.2.0 in /usr/local/lib/python3.9/dist-packages (from spacy<3.6.0,>=3.5.0->xx-ent-wiki-sm==3.5.0) (3.3.0)\n",
            "Requirement already satisfied: jinja2 in /usr/local/lib/python3.9/dist-packages (from spacy<3.6.0,>=3.5.0->xx-ent-wiki-sm==3.5.0) (3.1.2)\n",
            "Requirement already satisfied: pathy>=0.10.0 in /usr/local/lib/python3.9/dist-packages (from spacy<3.6.0,>=3.5.0->xx-ent-wiki-sm==3.5.0) (0.10.1)\n",
            "Requirement already satisfied: cymem<2.1.0,>=2.0.2 in /usr/local/lib/python3.9/dist-packages (from spacy<3.6.0,>=3.5.0->xx-ent-wiki-sm==3.5.0) (2.0.7)\n",
            "Requirement already satisfied: smart-open<7.0.0,>=5.2.1 in /usr/local/lib/python3.9/dist-packages (from spacy<3.6.0,>=3.5.0->xx-ent-wiki-sm==3.5.0) (6.3.0)\n",
            "Requirement already satisfied: catalogue<2.1.0,>=2.0.6 in /usr/local/lib/python3.9/dist-packages (from spacy<3.6.0,>=3.5.0->xx-ent-wiki-sm==3.5.0) (2.0.8)\n",
            "Requirement already satisfied: thinc<8.2.0,>=8.1.8 in /usr/local/lib/python3.9/dist-packages (from spacy<3.6.0,>=3.5.0->xx-ent-wiki-sm==3.5.0) (8.1.9)\n",
            "Requirement already satisfied: spacy-legacy<3.1.0,>=3.0.11 in /usr/local/lib/python3.9/dist-packages (from spacy<3.6.0,>=3.5.0->xx-ent-wiki-sm==3.5.0) (3.0.12)\n",
            "Requirement already satisfied: tqdm<5.0.0,>=4.38.0 in /usr/local/lib/python3.9/dist-packages (from spacy<3.6.0,>=3.5.0->xx-ent-wiki-sm==3.5.0) (4.65.0)\n",
            "Requirement already satisfied: srsly<3.0.0,>=2.4.3 in /usr/local/lib/python3.9/dist-packages (from spacy<3.6.0,>=3.5.0->xx-ent-wiki-sm==3.5.0) (2.4.6)\n",
            "Requirement already satisfied: typer<0.8.0,>=0.3.0 in /usr/local/lib/python3.9/dist-packages (from spacy<3.6.0,>=3.5.0->xx-ent-wiki-sm==3.5.0) (0.7.0)\n",
            "Requirement already satisfied: numpy>=1.15.0 in /usr/local/lib/python3.9/dist-packages (from spacy<3.6.0,>=3.5.0->xx-ent-wiki-sm==3.5.0) (1.22.4)\n",
            "Requirement already satisfied: packaging>=20.0 in /usr/local/lib/python3.9/dist-packages (from spacy<3.6.0,>=3.5.0->xx-ent-wiki-sm==3.5.0) (23.0)\n",
            "Requirement already satisfied: typing-extensions>=4.2.0 in /usr/local/lib/python3.9/dist-packages (from pydantic!=1.8,!=1.8.1,<1.11.0,>=1.7.4->spacy<3.6.0,>=3.5.0->xx-ent-wiki-sm==3.5.0) (4.5.0)\n",
            "Requirement already satisfied: charset-normalizer~=2.0.0 in /usr/local/lib/python3.9/dist-packages (from requests<3.0.0,>=2.13.0->spacy<3.6.0,>=3.5.0->xx-ent-wiki-sm==3.5.0) (2.0.12)\n",
            "Requirement already satisfied: certifi>=2017.4.17 in /usr/local/lib/python3.9/dist-packages (from requests<3.0.0,>=2.13.0->spacy<3.6.0,>=3.5.0->xx-ent-wiki-sm==3.5.0) (2022.12.7)\n",
            "Requirement already satisfied: urllib3<1.27,>=1.21.1 in /usr/local/lib/python3.9/dist-packages (from requests<3.0.0,>=2.13.0->spacy<3.6.0,>=3.5.0->xx-ent-wiki-sm==3.5.0) (1.26.15)\n",
            "Requirement already satisfied: idna<4,>=2.5 in /usr/local/lib/python3.9/dist-packages (from requests<3.0.0,>=2.13.0->spacy<3.6.0,>=3.5.0->xx-ent-wiki-sm==3.5.0) (3.4)\n",
            "Requirement already satisfied: blis<0.8.0,>=0.7.8 in /usr/local/lib/python3.9/dist-packages (from thinc<8.2.0,>=8.1.8->spacy<3.6.0,>=3.5.0->xx-ent-wiki-sm==3.5.0) (0.7.9)\n",
            "Requirement already satisfied: confection<1.0.0,>=0.0.1 in /usr/local/lib/python3.9/dist-packages (from thinc<8.2.0,>=8.1.8->spacy<3.6.0,>=3.5.0->xx-ent-wiki-sm==3.5.0) (0.0.4)\n",
            "Requirement already satisfied: click<9.0.0,>=7.1.1 in /usr/local/lib/python3.9/dist-packages (from typer<0.8.0,>=0.3.0->spacy<3.6.0,>=3.5.0->xx-ent-wiki-sm==3.5.0) (8.1.3)\n",
            "Requirement already satisfied: MarkupSafe>=2.0 in /usr/local/lib/python3.9/dist-packages (from jinja2->spacy<3.6.0,>=3.5.0->xx-ent-wiki-sm==3.5.0) (2.1.2)\n",
            "\u001b[38;5;2m✔ Download and installation successful\u001b[0m\n",
            "You can now load the package via spacy.load('xx_ent_wiki_sm')\n",
            "us aC6hcoj6EP LOC\n",
            "Help PER\n",
            "If reassure consider MISC\n",
            "Thank PER\n",
            "Hope ORG\n",
            "The 4 donate VIcstKgvUm MISC\n",
            "Please PER\n",
            "cjsPO3r3ji MISC\n",
            "Walk PER\n",
            "Khalil PER\n",
            "Earthquake PER\n",
            "PAWS ORG\n",
            "FOUR ORG\n",
            "Update LOC\n",
            "JY8GCtXrZR MISC\n",
            "VGWUSrMjNW Our MISC\n",
            "Amir Syria PER\n",
            "ADIYAMAN ORG\n",
            "Gaziantep LOC\n",
            "HelpTurkey Osmaniye MISC\n",
            "Keep 18 MISC\n",
            "RWBqGXUfbV LOC\n",
            "ICAT ORG\n",
            "Baitulmaal LOC\n",
            "Ramadan LOC\n",
            "Turkey LOC\n",
            "More MISC\n",
            "Ramadan2023 Orphan MISC\n",
            "Turkiye LOC\n",
            "Syria LOC\n",
            "You Stop Beyefendiyimyav MISC\n",
            "Why MISC\n",
            "RTErdogan MISC\n",
            "qAT9Gq47Q0 MISC\n",
            "Ramadan LOC\n",
            "We still Turkey MISC\n",
            "Your surCqgCnLO MISC\n",
            "Syria LOC\n"
          ]
        }
      ]
    },
    {
      "cell_type": "code",
      "source": [
        "\n",
        "locations=[]\n",
        "locations.extend([[entity.text] for entity in entities if entity.label_ in ['LOC']])\n",
        "df = pd.DataFrame(locations, columns=['Location'])\n",
        "df"
      ],
      "metadata": {
        "id": "6mNS1ezSwxk9",
        "colab": {
          "base_uri": "https://localhost:8080/",
          "height": 394
        },
        "outputId": "634cde83-85ea-4564-8aa2-c0ca3f5c77ec"
      },
      "execution_count": null,
      "outputs": [
        {
          "output_type": "execute_result",
          "data": {
            "text/plain": [
              "         Location\n",
              "0   us aC6hcoj6EP\n",
              "1          Update\n",
              "2       Gaziantep\n",
              "3      RWBqGXUfbV\n",
              "4      Baitulmaal\n",
              "5         Ramadan\n",
              "6          Turkey\n",
              "7         Turkiye\n",
              "8           Syria\n",
              "9         Ramadan\n",
              "10          Syria"
            ],
            "text/html": [
              "\n",
              "  <div id=\"df-61f6588f-846b-477b-a996-f54797bb97a0\">\n",
              "    <div class=\"colab-df-container\">\n",
              "      <div>\n",
              "<style scoped>\n",
              "    .dataframe tbody tr th:only-of-type {\n",
              "        vertical-align: middle;\n",
              "    }\n",
              "\n",
              "    .dataframe tbody tr th {\n",
              "        vertical-align: top;\n",
              "    }\n",
              "\n",
              "    .dataframe thead th {\n",
              "        text-align: right;\n",
              "    }\n",
              "</style>\n",
              "<table border=\"1\" class=\"dataframe\">\n",
              "  <thead>\n",
              "    <tr style=\"text-align: right;\">\n",
              "      <th></th>\n",
              "      <th>Location</th>\n",
              "    </tr>\n",
              "  </thead>\n",
              "  <tbody>\n",
              "    <tr>\n",
              "      <th>0</th>\n",
              "      <td>us aC6hcoj6EP</td>\n",
              "    </tr>\n",
              "    <tr>\n",
              "      <th>1</th>\n",
              "      <td>Update</td>\n",
              "    </tr>\n",
              "    <tr>\n",
              "      <th>2</th>\n",
              "      <td>Gaziantep</td>\n",
              "    </tr>\n",
              "    <tr>\n",
              "      <th>3</th>\n",
              "      <td>RWBqGXUfbV</td>\n",
              "    </tr>\n",
              "    <tr>\n",
              "      <th>4</th>\n",
              "      <td>Baitulmaal</td>\n",
              "    </tr>\n",
              "    <tr>\n",
              "      <th>5</th>\n",
              "      <td>Ramadan</td>\n",
              "    </tr>\n",
              "    <tr>\n",
              "      <th>6</th>\n",
              "      <td>Turkey</td>\n",
              "    </tr>\n",
              "    <tr>\n",
              "      <th>7</th>\n",
              "      <td>Turkiye</td>\n",
              "    </tr>\n",
              "    <tr>\n",
              "      <th>8</th>\n",
              "      <td>Syria</td>\n",
              "    </tr>\n",
              "    <tr>\n",
              "      <th>9</th>\n",
              "      <td>Ramadan</td>\n",
              "    </tr>\n",
              "    <tr>\n",
              "      <th>10</th>\n",
              "      <td>Syria</td>\n",
              "    </tr>\n",
              "  </tbody>\n",
              "</table>\n",
              "</div>\n",
              "      <button class=\"colab-df-convert\" onclick=\"convertToInteractive('df-61f6588f-846b-477b-a996-f54797bb97a0')\"\n",
              "              title=\"Convert this dataframe to an interactive table.\"\n",
              "              style=\"display:none;\">\n",
              "        \n",
              "  <svg xmlns=\"http://www.w3.org/2000/svg\" height=\"24px\"viewBox=\"0 0 24 24\"\n",
              "       width=\"24px\">\n",
              "    <path d=\"M0 0h24v24H0V0z\" fill=\"none\"/>\n",
              "    <path d=\"M18.56 5.44l.94 2.06.94-2.06 2.06-.94-2.06-.94-.94-2.06-.94 2.06-2.06.94zm-11 1L8.5 8.5l.94-2.06 2.06-.94-2.06-.94L8.5 2.5l-.94 2.06-2.06.94zm10 10l.94 2.06.94-2.06 2.06-.94-2.06-.94-.94-2.06-.94 2.06-2.06.94z\"/><path d=\"M17.41 7.96l-1.37-1.37c-.4-.4-.92-.59-1.43-.59-.52 0-1.04.2-1.43.59L10.3 9.45l-7.72 7.72c-.78.78-.78 2.05 0 2.83L4 21.41c.39.39.9.59 1.41.59.51 0 1.02-.2 1.41-.59l7.78-7.78 2.81-2.81c.8-.78.8-2.07 0-2.86zM5.41 20L4 18.59l7.72-7.72 1.47 1.35L5.41 20z\"/>\n",
              "  </svg>\n",
              "      </button>\n",
              "      \n",
              "  <style>\n",
              "    .colab-df-container {\n",
              "      display:flex;\n",
              "      flex-wrap:wrap;\n",
              "      gap: 12px;\n",
              "    }\n",
              "\n",
              "    .colab-df-convert {\n",
              "      background-color: #E8F0FE;\n",
              "      border: none;\n",
              "      border-radius: 50%;\n",
              "      cursor: pointer;\n",
              "      display: none;\n",
              "      fill: #1967D2;\n",
              "      height: 32px;\n",
              "      padding: 0 0 0 0;\n",
              "      width: 32px;\n",
              "    }\n",
              "\n",
              "    .colab-df-convert:hover {\n",
              "      background-color: #E2EBFA;\n",
              "      box-shadow: 0px 1px 2px rgba(60, 64, 67, 0.3), 0px 1px 3px 1px rgba(60, 64, 67, 0.15);\n",
              "      fill: #174EA6;\n",
              "    }\n",
              "\n",
              "    [theme=dark] .colab-df-convert {\n",
              "      background-color: #3B4455;\n",
              "      fill: #D2E3FC;\n",
              "    }\n",
              "\n",
              "    [theme=dark] .colab-df-convert:hover {\n",
              "      background-color: #434B5C;\n",
              "      box-shadow: 0px 1px 3px 1px rgba(0, 0, 0, 0.15);\n",
              "      filter: drop-shadow(0px 1px 2px rgba(0, 0, 0, 0.3));\n",
              "      fill: #FFFFFF;\n",
              "    }\n",
              "  </style>\n",
              "\n",
              "      <script>\n",
              "        const buttonEl =\n",
              "          document.querySelector('#df-61f6588f-846b-477b-a996-f54797bb97a0 button.colab-df-convert');\n",
              "        buttonEl.style.display =\n",
              "          google.colab.kernel.accessAllowed ? 'block' : 'none';\n",
              "\n",
              "        async function convertToInteractive(key) {\n",
              "          const element = document.querySelector('#df-61f6588f-846b-477b-a996-f54797bb97a0');\n",
              "          const dataTable =\n",
              "            await google.colab.kernel.invokeFunction('convertToInteractive',\n",
              "                                                     [key], {});\n",
              "          if (!dataTable) return;\n",
              "\n",
              "          const docLinkHtml = 'Like what you see? Visit the ' +\n",
              "            '<a target=\"_blank\" href=https://colab.research.google.com/notebooks/data_table.ipynb>data table notebook</a>'\n",
              "            + ' to learn more about interactive tables.';\n",
              "          element.innerHTML = '';\n",
              "          dataTable['output_type'] = 'display_data';\n",
              "          await google.colab.output.renderOutput(dataTable, element);\n",
              "          const docLink = document.createElement('div');\n",
              "          docLink.innerHTML = docLinkHtml;\n",
              "          element.appendChild(docLink);\n",
              "        }\n",
              "      </script>\n",
              "    </div>\n",
              "  </div>\n",
              "  "
            ]
          },
          "metadata": {},
          "execution_count": 46
        }
      ]
    },
    {
      "cell_type": "code",
      "source": [
        "tk2=[]\n",
        "import nltk\n",
        "#nltk.download('punkt')\n",
        "from nltk.tokenize import word_tokenize\n",
        "def perform_tokenization(word):\n",
        "    tokens=list(set(word_tokenize(word)))\n",
        "    tk2.extend(tokens)\n",
        "    return tokens\n",
        "for i in range(0,j-1):\n",
        "  dataf.iloc[i]['Location']=perform_tokenization(dataf.iloc[i]['Location'])"
      ],
      "metadata": {
        "colab": {
          "base_uri": "https://localhost:8080/"
        },
        "id": "rvQe5jS1YST4",
        "outputId": "b846c022-0e15-4502-aa47-6f931a0915ea"
      },
      "execution_count": null,
      "outputs": [
        {
          "output_type": "stream",
          "name": "stderr",
          "text": [
            "<ipython-input-47-a236bd4a7ad4>:10: SettingWithCopyWarning: \n",
            "A value is trying to be set on a copy of a slice from a DataFrame\n",
            "\n",
            "See the caveats in the documentation: https://pandas.pydata.org/pandas-docs/stable/user_guide/indexing.html#returning-a-view-versus-a-copy\n",
            "  dataf.iloc[i]['Location']=perform_tokenization(dataf.iloc[i]['Location'])\n"
          ]
        }
      ]
    },
    {
      "cell_type": "code",
      "source": [
        "nlp= spacy.load('xx_ent_wiki_sm')\n",
        "\n",
        "# Define a list of tokens\n",
        "tokens=tk2\n",
        "\n",
        "# Join the tokens into a string\n",
        "text = \" \".join(tokens)\n",
        "\n",
        "# Create a spaCy Doc object from the string\n",
        "doc = nlp(text)\n",
        "\n",
        "# Extract named entities from the Doc object\n",
        "entities = list(doc.ents)\n",
        "\n",
        "# Print the named entities\n",
        "for entity in entities:\n",
        "    print(entity.text, entity.label_)"
      ],
      "metadata": {
        "id": "wWUeY7l4tTP2",
        "colab": {
          "base_uri": "https://localhost:8080/"
        },
        "outputId": "5ab20a88-0643-4db1-b2b7-f88992ea79be"
      },
      "execution_count": null,
      "outputs": [
        {
          "output_type": "stream",
          "name": "stdout",
          "text": [
            "Paris LOC\n",
            "Bedfordshire England PER\n",
            "UK MA ORG\n",
            "Texas LOC\n"
          ]
        }
      ]
    },
    {
      "cell_type": "code",
      "source": [
        "locations2=[]\n",
        "locations2.extend([[entity.text] for entity in entities if entity.label_ in ['LOC']])\n",
        "df = pd.DataFrame(locations2, columns=['Location'])\n",
        "df.head()"
      ],
      "metadata": {
        "colab": {
          "base_uri": "https://localhost:8080/",
          "height": 112
        },
        "id": "2DgsGO4NYnz9",
        "outputId": "ce23f032-ce63-47bd-8044-7b7d3d5dd12c"
      },
      "execution_count": null,
      "outputs": [
        {
          "output_type": "execute_result",
          "data": {
            "text/plain": [
              "  Location\n",
              "0    Paris\n",
              "1    Texas"
            ],
            "text/html": [
              "\n",
              "  <div id=\"df-0ac87383-a4ce-45df-bdf3-befe046adc88\">\n",
              "    <div class=\"colab-df-container\">\n",
              "      <div>\n",
              "<style scoped>\n",
              "    .dataframe tbody tr th:only-of-type {\n",
              "        vertical-align: middle;\n",
              "    }\n",
              "\n",
              "    .dataframe tbody tr th {\n",
              "        vertical-align: top;\n",
              "    }\n",
              "\n",
              "    .dataframe thead th {\n",
              "        text-align: right;\n",
              "    }\n",
              "</style>\n",
              "<table border=\"1\" class=\"dataframe\">\n",
              "  <thead>\n",
              "    <tr style=\"text-align: right;\">\n",
              "      <th></th>\n",
              "      <th>Location</th>\n",
              "    </tr>\n",
              "  </thead>\n",
              "  <tbody>\n",
              "    <tr>\n",
              "      <th>0</th>\n",
              "      <td>Paris</td>\n",
              "    </tr>\n",
              "    <tr>\n",
              "      <th>1</th>\n",
              "      <td>Texas</td>\n",
              "    </tr>\n",
              "  </tbody>\n",
              "</table>\n",
              "</div>\n",
              "      <button class=\"colab-df-convert\" onclick=\"convertToInteractive('df-0ac87383-a4ce-45df-bdf3-befe046adc88')\"\n",
              "              title=\"Convert this dataframe to an interactive table.\"\n",
              "              style=\"display:none;\">\n",
              "        \n",
              "  <svg xmlns=\"http://www.w3.org/2000/svg\" height=\"24px\"viewBox=\"0 0 24 24\"\n",
              "       width=\"24px\">\n",
              "    <path d=\"M0 0h24v24H0V0z\" fill=\"none\"/>\n",
              "    <path d=\"M18.56 5.44l.94 2.06.94-2.06 2.06-.94-2.06-.94-.94-2.06-.94 2.06-2.06.94zm-11 1L8.5 8.5l.94-2.06 2.06-.94-2.06-.94L8.5 2.5l-.94 2.06-2.06.94zm10 10l.94 2.06.94-2.06 2.06-.94-2.06-.94-.94-2.06-.94 2.06-2.06.94z\"/><path d=\"M17.41 7.96l-1.37-1.37c-.4-.4-.92-.59-1.43-.59-.52 0-1.04.2-1.43.59L10.3 9.45l-7.72 7.72c-.78.78-.78 2.05 0 2.83L4 21.41c.39.39.9.59 1.41.59.51 0 1.02-.2 1.41-.59l7.78-7.78 2.81-2.81c.8-.78.8-2.07 0-2.86zM5.41 20L4 18.59l7.72-7.72 1.47 1.35L5.41 20z\"/>\n",
              "  </svg>\n",
              "      </button>\n",
              "      \n",
              "  <style>\n",
              "    .colab-df-container {\n",
              "      display:flex;\n",
              "      flex-wrap:wrap;\n",
              "      gap: 12px;\n",
              "    }\n",
              "\n",
              "    .colab-df-convert {\n",
              "      background-color: #E8F0FE;\n",
              "      border: none;\n",
              "      border-radius: 50%;\n",
              "      cursor: pointer;\n",
              "      display: none;\n",
              "      fill: #1967D2;\n",
              "      height: 32px;\n",
              "      padding: 0 0 0 0;\n",
              "      width: 32px;\n",
              "    }\n",
              "\n",
              "    .colab-df-convert:hover {\n",
              "      background-color: #E2EBFA;\n",
              "      box-shadow: 0px 1px 2px rgba(60, 64, 67, 0.3), 0px 1px 3px 1px rgba(60, 64, 67, 0.15);\n",
              "      fill: #174EA6;\n",
              "    }\n",
              "\n",
              "    [theme=dark] .colab-df-convert {\n",
              "      background-color: #3B4455;\n",
              "      fill: #D2E3FC;\n",
              "    }\n",
              "\n",
              "    [theme=dark] .colab-df-convert:hover {\n",
              "      background-color: #434B5C;\n",
              "      box-shadow: 0px 1px 3px 1px rgba(0, 0, 0, 0.15);\n",
              "      filter: drop-shadow(0px 1px 2px rgba(0, 0, 0, 0.3));\n",
              "      fill: #FFFFFF;\n",
              "    }\n",
              "  </style>\n",
              "\n",
              "      <script>\n",
              "        const buttonEl =\n",
              "          document.querySelector('#df-0ac87383-a4ce-45df-bdf3-befe046adc88 button.colab-df-convert');\n",
              "        buttonEl.style.display =\n",
              "          google.colab.kernel.accessAllowed ? 'block' : 'none';\n",
              "\n",
              "        async function convertToInteractive(key) {\n",
              "          const element = document.querySelector('#df-0ac87383-a4ce-45df-bdf3-befe046adc88');\n",
              "          const dataTable =\n",
              "            await google.colab.kernel.invokeFunction('convertToInteractive',\n",
              "                                                     [key], {});\n",
              "          if (!dataTable) return;\n",
              "\n",
              "          const docLinkHtml = 'Like what you see? Visit the ' +\n",
              "            '<a target=\"_blank\" href=https://colab.research.google.com/notebooks/data_table.ipynb>data table notebook</a>'\n",
              "            + ' to learn more about interactive tables.';\n",
              "          element.innerHTML = '';\n",
              "          dataTable['output_type'] = 'display_data';\n",
              "          await google.colab.output.renderOutput(dataTable, element);\n",
              "          const docLink = document.createElement('div');\n",
              "          docLink.innerHTML = docLinkHtml;\n",
              "          element.appendChild(docLink);\n",
              "        }\n",
              "      </script>\n",
              "    </div>\n",
              "  </div>\n",
              "  "
            ]
          },
          "metadata": {},
          "execution_count": 49
        }
      ]
    },
    {
      "cell_type": "code",
      "source": [
        "locations.extend(locations2)"
      ],
      "metadata": {
        "id": "v7GPhBCfblgk"
      },
      "execution_count": null,
      "outputs": []
    },
    {
      "cell_type": "code",
      "source": [
        "locations"
      ],
      "metadata": {
        "colab": {
          "base_uri": "https://localhost:8080/"
        },
        "id": "ohpsmljCcHmV",
        "outputId": "ad799412-0bfd-497c-a815-3ee59cfdb2a3"
      },
      "execution_count": null,
      "outputs": [
        {
          "output_type": "execute_result",
          "data": {
            "text/plain": [
              "[['us aC6hcoj6EP'],\n",
              " ['Update'],\n",
              " ['Gaziantep'],\n",
              " ['RWBqGXUfbV'],\n",
              " ['Baitulmaal'],\n",
              " ['Ramadan'],\n",
              " ['Turkey'],\n",
              " ['Turkiye'],\n",
              " ['Syria'],\n",
              " ['Ramadan'],\n",
              " ['Syria'],\n",
              " ['Paris'],\n",
              " ['Texas']]"
            ]
          },
          "metadata": {},
          "execution_count": 51
        }
      ]
    },
    {
      "cell_type": "code",
      "source": [
        "flatList = [element for innerList in locations for element in innerList]\n",
        "locations=flatList\n",
        "locations"
      ],
      "metadata": {
        "colab": {
          "base_uri": "https://localhost:8080/"
        },
        "id": "sCWlBbyneRMM",
        "outputId": "ce2afac1-f412-4afb-8b44-24fc78797f97"
      },
      "execution_count": null,
      "outputs": [
        {
          "output_type": "execute_result",
          "data": {
            "text/plain": [
              "['us aC6hcoj6EP',\n",
              " 'Update',\n",
              " 'Gaziantep',\n",
              " 'RWBqGXUfbV',\n",
              " 'Baitulmaal',\n",
              " 'Ramadan',\n",
              " 'Turkey',\n",
              " 'Turkiye',\n",
              " 'Syria',\n",
              " 'Ramadan',\n",
              " 'Syria',\n",
              " 'Paris',\n",
              " 'Texas']"
            ]
          },
          "metadata": {},
          "execution_count": 52
        }
      ]
    },
    {
      "cell_type": "code",
      "source": [
        "y.extend(x)\n",
        "y"
      ],
      "metadata": {
        "colab": {
          "base_uri": "https://localhost:8080/"
        },
        "id": "tAazJNYlcKLZ",
        "outputId": "4f463400-d9de-4048-bdd7-26629dbf0d39"
      },
      "execution_count": null,
      "outputs": [
        {
          "output_type": "execute_result",
          "data": {
            "text/plain": [
              "['Syria',\n",
              " 'Turkey',\n",
              " 'Syria',\n",
              " 'Turkey',\n",
              " 'Turkiye',\n",
              " 'Turkey',\n",
              " 'Syria',\n",
              " 'Turkey',\n",
              " 'Syria',\n",
              " 'Turkey',\n",
              " 'based in Paris, works globally',\n",
              " 'Bedfordshire, England, UK',\n",
              " 'Boston, MA',\n",
              " 'Anıttepe',\n",
              " 'Broomfield, CO',\n",
              " 'Irving, Texas',\n",
              " 'United Kingdom',\n",
              " 'Istanbul, Turkey',\n",
              " nan,\n",
              " 'Entire United States',\n",
              " nan]"
            ]
          },
          "metadata": {},
          "execution_count": 53
        }
      ]
    },
    {
      "cell_type": "code",
      "source": [
        "from numpy import nan\n",
        "import pandas as pd\n",
        "y = [item for item in y if not(pd.isnull(item)) == True]\n",
        "y"
      ],
      "metadata": {
        "colab": {
          "base_uri": "https://localhost:8080/"
        },
        "id": "hkHi-W0SiE66",
        "outputId": "8006f65d-56cf-4b87-d9a2-72c976575eb1"
      },
      "execution_count": null,
      "outputs": [
        {
          "output_type": "execute_result",
          "data": {
            "text/plain": [
              "['Syria',\n",
              " 'Turkey',\n",
              " 'Syria',\n",
              " 'Turkey',\n",
              " 'Turkiye',\n",
              " 'Turkey',\n",
              " 'Syria',\n",
              " 'Turkey',\n",
              " 'Syria',\n",
              " 'Turkey',\n",
              " 'based in Paris, works globally',\n",
              " 'Bedfordshire, England, UK',\n",
              " 'Boston, MA',\n",
              " 'Anıttepe',\n",
              " 'Broomfield, CO',\n",
              " 'Irving, Texas',\n",
              " 'United Kingdom',\n",
              " 'Istanbul, Turkey',\n",
              " 'Entire United States']"
            ]
          },
          "metadata": {},
          "execution_count": 57
        }
      ]
    },
    {
      "cell_type": "code",
      "source": [
        "lst3 = [value for value in y if value in locations]\n",
        "lst3"
      ],
      "metadata": {
        "colab": {
          "base_uri": "https://localhost:8080/"
        },
        "id": "Fl4gROgtdRjR",
        "outputId": "cbd038b2-e92b-4c73-e7e5-8810ca6cff03"
      },
      "execution_count": null,
      "outputs": [
        {
          "output_type": "execute_result",
          "data": {
            "text/plain": [
              "['Syria',\n",
              " 'Turkey',\n",
              " 'Syria',\n",
              " 'Turkey',\n",
              " 'Turkiye',\n",
              " 'Turkey',\n",
              " 'Syria',\n",
              " 'Turkey',\n",
              " 'Syria',\n",
              " 'Turkey']"
            ]
          },
          "metadata": {},
          "execution_count": 58
        }
      ]
    },
    {
      "cell_type": "code",
      "source": [
        "accuracy = (len(lst3)/len(y))*100\n",
        "print('Accuracy is ',accuracy)"
      ],
      "metadata": {
        "colab": {
          "base_uri": "https://localhost:8080/"
        },
        "id": "7qVXkmMekasd",
        "outputId": "a1f8c611-33a2-4c0c-9666-b37a82c08f86"
      },
      "execution_count": null,
      "outputs": [
        {
          "output_type": "stream",
          "name": "stdout",
          "text": [
            "Accuracy is  52.63157894736842\n"
          ]
        }
      ]
    },
    {
      "cell_type": "code",
      "source": [],
      "metadata": {
        "id": "SkBxKr52l9vH"
      },
      "execution_count": null,
      "outputs": []
    }
  ],
  "metadata": {
    "colab": {
      "provenance": []
    },
    "kernelspec": {
      "display_name": "Python 3",
      "name": "python3"
    },
    "language_info": {
      "name": "python"
    }
  },
  "nbformat": 4,
  "nbformat_minor": 0
}